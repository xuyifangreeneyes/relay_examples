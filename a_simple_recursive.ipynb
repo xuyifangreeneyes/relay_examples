{
 "cells": [
  {
   "cell_type": "code",
   "execution_count": 1,
   "metadata": {},
   "outputs": [
    {
     "name": "stdout",
     "output_type": "stream",
     "text": [
      "v0.0.4\n",
      "def @myfun(%acc: Tensor[(2, 2), float32], %x: Tensor[(2, 2), float32], %n: int32) -> Tensor[(2, 2), float32] {\n",
      "  %0 = greater(%n, 0 /* ty=int32 */) /* ty=bool */;\n",
      "  if (%0) {\n",
      "    %1 = add(%acc, %x) /* ty=Tensor[(2, 2), float32] */;\n",
      "    %2 = subtract(%n, 1 /* ty=int32 */) /* ty=int32 */;\n",
      "    @myfun(%1, %x, %2) /* ty=Tensor[(2, 2), float32] */\n",
      "  } else {\n",
      "    %acc\n",
      "  }\n",
      "}\n",
      "\n"
     ]
    }
   ],
   "source": [
    "import numpy as np\n",
    "from tvm import relay\n",
    "import tvm\n",
    "from tvm.contrib import graph_runtime\n",
    "\n",
    "myrelay = \"\"\"\n",
    "v0.0.4\n",
    "\n",
    "def @myfun(%acc : Tensor[(2, 2), float32],\n",
    "           %x   : Tensor[(2, 2), float32],\n",
    "           %n   : int32) -> Tensor[(2, 2), float32] {\n",
    "  if (%n > 0) {\n",
    "    @myfun(%acc + %x, %x, %n - 1)\n",
    "  } else {\n",
    "    %acc\n",
    "  }\n",
    "}\n",
    "\"\"\"\n",
    "\n",
    "my_relay_module = relay.fromtext(myrelay)\n",
    "print(my_relay_module.astext())"
   ]
  },
  {
   "cell_type": "code",
   "execution_count": 2,
   "metadata": {},
   "outputs": [
    {
     "ename": "TVMError",
     "evalue": "Traceback (most recent call last):\n  [bt] (8) /home/ubuntu/tvm/build/libtvm.so(tvm::relay::vm::VMCompiler::OptimizeModule(tvm::relay::Module const&, tvm::Map<tvm::Integer, tvm::Target, void, void> const&)+0xa3a) [0x7ff244d6159a]\n  [bt] (7) /home/ubuntu/tvm/build/libtvm.so(tvm::relay::transform::Pass::operator()(tvm::relay::Module const&) const+0x57) [0x7ff244d048c7]\n  [bt] (6) /home/ubuntu/tvm/build/libtvm.so(tvm::relay::transform::SequentialNode::operator()(tvm::relay::Module const&, tvm::relay::transform::PassContext const&) const+0x490) [0x7ff244c9dc80]\n  [bt] (5) /home/ubuntu/tvm/build/libtvm.so(tvm::relay::transform::ModulePassNode::operator()(tvm::relay::Module const&, tvm::relay::transform::PassContext const&) const+0x100) [0x7ff244c9e2a0]\n  [bt] (4) /home/ubuntu/tvm/build/libtvm.so(+0x11eb232) [0x7ff244d77232]\n  [bt] (3) /home/ubuntu/tvm/build/libtvm.so(tvm::relay::vm::RemoveUnusedFunctions(tvm::relay::Module const&, tvm::Array<tvm::Expr, void>)+0x247) [0x7ff244d76847]\n  [bt] (2) /home/ubuntu/tvm/build/libtvm.so(tvm::relay::ModuleNode::Lookup(std::__cxx11::basic_string<char, std::char_traits<char>, std::allocator<char> > const&) const+0x26) [0x7ff244db5ba6]\n  [bt] (1) /home/ubuntu/tvm/build/libtvm.so(tvm::relay::ModuleNode::GetGlobalVar(std::__cxx11::basic_string<char, std::char_traits<char>, std::allocator<char> > const&) const+0x217) [0x7ff244db5b37]\n  [bt] (0) /home/ubuntu/tvm/build/libtvm.so(dmlc::LogMessageFatal::~LogMessageFatal()+0x32) [0x7ff2446c2352]\n  File \"/home/ubuntu/tvm/src/relay/ir/module.cc\", line 77\nTVMError: Check failed: it != global_var_map_.end(): Cannot find global var main in the Module",
     "output_type": "error",
     "traceback": [
      "\u001b[0;31m---------------------------------------------------------------------------\u001b[0m",
      "\u001b[0;31mTVMError\u001b[0m                                  Traceback (most recent call last)",
      "\u001b[0;32m<ipython-input-2-16447043e99b>\u001b[0m in \u001b[0;36m<module>\u001b[0;34m()\u001b[0m\n\u001b[1;32m      4\u001b[0m \u001b[0;32mwith\u001b[0m \u001b[0mrelay\u001b[0m\u001b[0;34m.\u001b[0m\u001b[0mbuild_config\u001b[0m\u001b[0;34m(\u001b[0m\u001b[0mopt_level\u001b[0m\u001b[0;34m=\u001b[0m\u001b[0mopt_level\u001b[0m\u001b[0;34m)\u001b[0m\u001b[0;34m:\u001b[0m\u001b[0;34m\u001b[0m\u001b[0m\n\u001b[1;32m      5\u001b[0m     executor = relay.build_module.create_executor(\n\u001b[0;32m----> 6\u001b[0;31m         'vm', my_relay_module, ctx, target)\n\u001b[0m\u001b[1;32m      7\u001b[0m \u001b[0;34m\u001b[0m\u001b[0m\n\u001b[1;32m      8\u001b[0m \u001b[0mmyfun_reified\u001b[0m \u001b[0;34m=\u001b[0m \u001b[0mexecutor\u001b[0m\u001b[0;34m.\u001b[0m\u001b[0mevaluate\u001b[0m\u001b[0;34m(\u001b[0m\u001b[0mmy_relay_module\u001b[0m\u001b[0;34m.\u001b[0m\u001b[0mget_global_var\u001b[0m\u001b[0;34m(\u001b[0m\u001b[0;34m'myfun'\u001b[0m\u001b[0;34m)\u001b[0m\u001b[0;34m)\u001b[0m\u001b[0;34m\u001b[0m\u001b[0m\n",
      "\u001b[0;32m~/tvm/python/tvm/relay/build_module.py\u001b[0m in \u001b[0;36mcreate_executor\u001b[0;34m(kind, mod, ctx, target)\u001b[0m\n\u001b[1;32m    382\u001b[0m         \u001b[0;32mreturn\u001b[0m \u001b[0mGraphExecutor\u001b[0m\u001b[0;34m(\u001b[0m\u001b[0mmod\u001b[0m\u001b[0;34m,\u001b[0m \u001b[0mctx\u001b[0m\u001b[0;34m,\u001b[0m \u001b[0mtarget\u001b[0m\u001b[0;34m)\u001b[0m\u001b[0;34m\u001b[0m\u001b[0m\n\u001b[1;32m    383\u001b[0m     \u001b[0;32melif\u001b[0m \u001b[0mkind\u001b[0m \u001b[0;34m==\u001b[0m \u001b[0;34m\"vm\"\u001b[0m\u001b[0;34m:\u001b[0m\u001b[0;34m\u001b[0m\u001b[0m\n\u001b[0;32m--> 384\u001b[0;31m         \u001b[0;32mreturn\u001b[0m \u001b[0mVMExecutor\u001b[0m\u001b[0;34m(\u001b[0m\u001b[0mmod\u001b[0m\u001b[0;34m,\u001b[0m \u001b[0mctx\u001b[0m\u001b[0;34m,\u001b[0m \u001b[0mtarget\u001b[0m\u001b[0;34m)\u001b[0m\u001b[0;34m\u001b[0m\u001b[0m\n\u001b[0m\u001b[1;32m    385\u001b[0m     \u001b[0;32melse\u001b[0m\u001b[0;34m:\u001b[0m\u001b[0;34m\u001b[0m\u001b[0m\n\u001b[1;32m    386\u001b[0m         \u001b[0;32mraise\u001b[0m \u001b[0mRuntimeError\u001b[0m\u001b[0;34m(\u001b[0m\u001b[0;34m\"unknown execution strategy: {0}\"\u001b[0m\u001b[0;34m.\u001b[0m\u001b[0mformat\u001b[0m\u001b[0;34m(\u001b[0m\u001b[0mkind\u001b[0m\u001b[0;34m)\u001b[0m\u001b[0;34m)\u001b[0m\u001b[0;34m\u001b[0m\u001b[0m\n",
      "\u001b[0;32m~/tvm/python/tvm/relay/backend/vm.py\u001b[0m in \u001b[0;36m__init__\u001b[0;34m(self, mod, ctx, target)\u001b[0m\n\u001b[1;32m    480\u001b[0m         \u001b[0mself\u001b[0m\u001b[0;34m.\u001b[0m\u001b[0mctx\u001b[0m \u001b[0;34m=\u001b[0m \u001b[0mctx\u001b[0m\u001b[0;34m\u001b[0m\u001b[0m\n\u001b[1;32m    481\u001b[0m         \u001b[0mself\u001b[0m\u001b[0;34m.\u001b[0m\u001b[0mtarget\u001b[0m \u001b[0;34m=\u001b[0m \u001b[0mtarget\u001b[0m\u001b[0;34m\u001b[0m\u001b[0m\n\u001b[0;32m--> 482\u001b[0;31m         \u001b[0mself\u001b[0m\u001b[0;34m.\u001b[0m\u001b[0mexecutable\u001b[0m \u001b[0;34m=\u001b[0m \u001b[0mcompile\u001b[0m\u001b[0;34m(\u001b[0m\u001b[0mmod\u001b[0m\u001b[0;34m,\u001b[0m \u001b[0mtarget\u001b[0m\u001b[0;34m)\u001b[0m\u001b[0;34m\u001b[0m\u001b[0m\n\u001b[0m\u001b[1;32m    483\u001b[0m         \u001b[0mself\u001b[0m\u001b[0;34m.\u001b[0m\u001b[0mvm\u001b[0m \u001b[0;34m=\u001b[0m \u001b[0mVirtualMachine\u001b[0m\u001b[0;34m(\u001b[0m\u001b[0mself\u001b[0m\u001b[0;34m.\u001b[0m\u001b[0mexecutable\u001b[0m\u001b[0;34m)\u001b[0m\u001b[0;34m\u001b[0m\u001b[0m\n\u001b[1;32m    484\u001b[0m         \u001b[0mself\u001b[0m\u001b[0;34m.\u001b[0m\u001b[0mvm\u001b[0m\u001b[0;34m.\u001b[0m\u001b[0minit\u001b[0m\u001b[0;34m(\u001b[0m\u001b[0mctx\u001b[0m\u001b[0;34m)\u001b[0m\u001b[0;34m\u001b[0m\u001b[0m\n",
      "\u001b[0;32m~/tvm/python/tvm/relay/backend/vm.py\u001b[0m in \u001b[0;36mcompile\u001b[0;34m(mod, target, target_host, params)\u001b[0m\n\u001b[1;32m    394\u001b[0m     \u001b[0mtophub_context\u001b[0m \u001b[0;34m=\u001b[0m \u001b[0mcompiler\u001b[0m\u001b[0;34m.\u001b[0m\u001b[0mtophub_context\u001b[0m\u001b[0;34m(\u001b[0m\u001b[0mtarget\u001b[0m\u001b[0;34m)\u001b[0m\u001b[0;34m\u001b[0m\u001b[0m\n\u001b[1;32m    395\u001b[0m     \u001b[0;32mwith\u001b[0m \u001b[0mtophub_context\u001b[0m\u001b[0;34m:\u001b[0m\u001b[0;34m\u001b[0m\u001b[0m\n\u001b[0;32m--> 396\u001b[0;31m         \u001b[0mcompiler\u001b[0m\u001b[0;34m.\u001b[0m\u001b[0m_compile\u001b[0m\u001b[0;34m(\u001b[0m\u001b[0mmod\u001b[0m\u001b[0;34m,\u001b[0m \u001b[0mtarget\u001b[0m\u001b[0;34m,\u001b[0m \u001b[0mtarget_host\u001b[0m\u001b[0;34m)\u001b[0m\u001b[0;34m\u001b[0m\u001b[0m\n\u001b[0m\u001b[1;32m    397\u001b[0m     \u001b[0;32mreturn\u001b[0m \u001b[0mExecutable\u001b[0m\u001b[0;34m(\u001b[0m\u001b[0mcompiler\u001b[0m\u001b[0;34m.\u001b[0m\u001b[0m_get_exec\u001b[0m\u001b[0;34m(\u001b[0m\u001b[0;34m)\u001b[0m\u001b[0;34m)\u001b[0m\u001b[0;34m\u001b[0m\u001b[0m\n\u001b[1;32m    398\u001b[0m \u001b[0;34m\u001b[0m\u001b[0m\n",
      "\u001b[0;32m~/tvm/python/tvm/_ffi/_ctypes/function.py\u001b[0m in \u001b[0;36m__call__\u001b[0;34m(self, *args)\u001b[0m\n\u001b[1;32m    205\u001b[0m                 \u001b[0mself\u001b[0m\u001b[0;34m.\u001b[0m\u001b[0mhandle\u001b[0m\u001b[0;34m,\u001b[0m \u001b[0mvalues\u001b[0m\u001b[0;34m,\u001b[0m \u001b[0mtcodes\u001b[0m\u001b[0;34m,\u001b[0m \u001b[0mctypes\u001b[0m\u001b[0;34m.\u001b[0m\u001b[0mc_int\u001b[0m\u001b[0;34m(\u001b[0m\u001b[0mnum_args\u001b[0m\u001b[0;34m)\u001b[0m\u001b[0;34m,\u001b[0m\u001b[0;34m\u001b[0m\u001b[0m\n\u001b[1;32m    206\u001b[0m                 ctypes.byref(ret_val), ctypes.byref(ret_tcode)) != 0:\n\u001b[0;32m--> 207\u001b[0;31m             \u001b[0;32mraise\u001b[0m \u001b[0mget_last_ffi_error\u001b[0m\u001b[0;34m(\u001b[0m\u001b[0;34m)\u001b[0m\u001b[0;34m\u001b[0m\u001b[0m\n\u001b[0m\u001b[1;32m    208\u001b[0m         \u001b[0m_\u001b[0m \u001b[0;34m=\u001b[0m \u001b[0mtemp_args\u001b[0m\u001b[0;34m\u001b[0m\u001b[0m\n\u001b[1;32m    209\u001b[0m         \u001b[0m_\u001b[0m \u001b[0;34m=\u001b[0m \u001b[0margs\u001b[0m\u001b[0;34m\u001b[0m\u001b[0m\n",
      "\u001b[0;31mTVMError\u001b[0m: Traceback (most recent call last):\n  [bt] (8) /home/ubuntu/tvm/build/libtvm.so(tvm::relay::vm::VMCompiler::OptimizeModule(tvm::relay::Module const&, tvm::Map<tvm::Integer, tvm::Target, void, void> const&)+0xa3a) [0x7ff244d6159a]\n  [bt] (7) /home/ubuntu/tvm/build/libtvm.so(tvm::relay::transform::Pass::operator()(tvm::relay::Module const&) const+0x57) [0x7ff244d048c7]\n  [bt] (6) /home/ubuntu/tvm/build/libtvm.so(tvm::relay::transform::SequentialNode::operator()(tvm::relay::Module const&, tvm::relay::transform::PassContext const&) const+0x490) [0x7ff244c9dc80]\n  [bt] (5) /home/ubuntu/tvm/build/libtvm.so(tvm::relay::transform::ModulePassNode::operator()(tvm::relay::Module const&, tvm::relay::transform::PassContext const&) const+0x100) [0x7ff244c9e2a0]\n  [bt] (4) /home/ubuntu/tvm/build/libtvm.so(+0x11eb232) [0x7ff244d77232]\n  [bt] (3) /home/ubuntu/tvm/build/libtvm.so(tvm::relay::vm::RemoveUnusedFunctions(tvm::relay::Module const&, tvm::Array<tvm::Expr, void>)+0x247) [0x7ff244d76847]\n  [bt] (2) /home/ubuntu/tvm/build/libtvm.so(tvm::relay::ModuleNode::Lookup(std::__cxx11::basic_string<char, std::char_traits<char>, std::allocator<char> > const&) const+0x26) [0x7ff244db5ba6]\n  [bt] (1) /home/ubuntu/tvm/build/libtvm.so(tvm::relay::ModuleNode::GetGlobalVar(std::__cxx11::basic_string<char, std::char_traits<char>, std::allocator<char> > const&) const+0x217) [0x7ff244db5b37]\n  [bt] (0) /home/ubuntu/tvm/build/libtvm.so(dmlc::LogMessageFatal::~LogMessageFatal()+0x32) [0x7ff2446c2352]\n  File \"/home/ubuntu/tvm/src/relay/ir/module.cc\", line 77\nTVMError: Check failed: it != global_var_map_.end(): Cannot find global var main in the Module"
     ]
    }
   ],
   "source": [
    "ctx = tvm.cpu()\n",
    "opt_level = 3\n",
    "target = tvm.target.create('llvm')\n",
    "with relay.build_config(opt_level=opt_level):\n",
    "    executor = relay.build_module.create_executor(\n",
    "        'vm', my_relay_module, ctx, target)\n",
    "\n",
    "myfun_reified = executor.evaluate(my_relay_module.get_global_var('myfun'))\n",
    "data = np.random.uniform(1, 2, size=(2, 2)).astype('float32')\n",
    "acc = np.zeros(shape=(2, 2), dtype=np.float32)\n",
    "\n",
    "out = myfun_reified(acc, data, 10).asnumpy()\n",
    "print(out)"
   ]
  },
  {
   "cell_type": "code",
   "execution_count": null,
   "metadata": {},
   "outputs": [],
   "source": []
  }
 ],
 "metadata": {
  "kernelspec": {
   "display_name": "Environment (conda_anaconda3)",
   "language": "python",
   "name": "conda_anaconda3"
  },
  "language_info": {
   "codemirror_mode": {
    "name": "ipython",
    "version": 3
   },
   "file_extension": ".py",
   "mimetype": "text/x-python",
   "name": "python",
   "nbconvert_exporter": "python",
   "pygments_lexer": "ipython3",
   "version": "3.6.6"
  }
 },
 "nbformat": 4,
 "nbformat_minor": 2
}
