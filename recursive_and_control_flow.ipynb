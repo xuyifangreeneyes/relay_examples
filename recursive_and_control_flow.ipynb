{
 "cells": [
  {
   "cell_type": "code",
   "execution_count": 4,
   "metadata": {},
   "outputs": [],
   "source": [
    "import tvm\n",
    "from tvm import relay\n",
    "import numpy as np"
   ]
  },
  {
   "cell_type": "code",
   "execution_count": 5,
   "metadata": {},
   "outputs": [
    {
     "name": "stdout",
     "output_type": "stream",
     "text": [
      "v0.0.4\n",
      "fn (%x: Tensor[(2), float32]) -> Tensor[(2), float32] {\n",
      "  let %while_loop-malformed-ir = fn (%i: int32, %s: Tensor[(2), float32]) -> Tensor[(2), float32] {\n",
      "    %0 = less(%i, 10 /* ty=int32 */) /* ty=bool */;\n",
      "    if (%0) {\n",
      "      %1 = add(%i, 1 /* ty=int32 */) /* ty=int32 */;\n",
      "      %2 = add(%s, %x) /* ty=Tensor[(2), float32] */;\n",
      "      free_var %while_loop: fn (int32, Tensor[(2), float32]) -> Tensor[(2), float32]\n",
      "      %while_loop(%1, %2) /* ty=Tensor[(2), float32] */\n",
      "    } else {\n",
      "      %s\n",
      "    }\n",
      "  };\n",
      "  %3 = zeros(shape=[2], dtype=\"float32\") /* ty=Tensor[(2), float32] */;\n",
      "  %while_loop(0 /* ty=int32 */, %3) /* ty=Tensor[(2), float32] */\n",
      "}\n"
     ]
    }
   ],
   "source": [
    "x = relay.var('x', shape=(2,))\n",
    "i = relay.var('i', shape=(), dtype='int32')\n",
    "s = relay.var('s', shape=(2,))\n",
    "cond = i < relay.const(10, dtype='int32')\n",
    "\n",
    "loop = relay.var('while_loop')\n",
    "sb = relay.scope_builder.ScopeBuilder()\n",
    "with sb.if_scope(cond):\n",
    "    ii = i + relay.const(1, dtype='int32')\n",
    "    ss = s + x\n",
    "    sb.ret(loop(ii, ss))\n",
    "with sb.else_scope():\n",
    "    sb.ret(s)\n",
    "func = relay.Function([i, s], sb.get())\n",
    "ret = relay.Let(loop, func, loop(relay.const(0, dtype='int32'), \n",
    "                                 relay.zeros(shape=(2,), dtype='float32')))\n",
    "mod = relay.Module()\n",
    "mod[\"main\"] = relay.Function([x], ret)\n",
    "print(mod[\"main\"])\n",
    "mod = relay.transform.LambdaLift()(mod)"
   ]
  },
  {
   "cell_type": "code",
   "execution_count": 7,
   "metadata": {},
   "outputs": [
    {
     "name": "stdout",
     "output_type": "stream",
     "text": [
      "[10. 10.]\n"
     ]
    }
   ],
   "source": [
    "with relay.build_config(opt_level=1):\n",
    "    ex = relay.create_executor(\"debug\", mod=mod, ctx=tvm.cpu(), target=\"llvm\")\n",
    "result = ex.evaluate()(np.ones((2,), dtype='float32'))\n",
    "print(result.asnumpy())"
   ]
  },
  {
   "cell_type": "code",
   "execution_count": null,
   "metadata": {},
   "outputs": [],
   "source": []
  }
 ],
 "metadata": {
  "kernelspec": {
   "display_name": "Environment (conda_anaconda3)",
   "language": "python",
   "name": "conda_anaconda3"
  },
  "language_info": {
   "codemirror_mode": {
    "name": "ipython",
    "version": 3
   },
   "file_extension": ".py",
   "mimetype": "text/x-python",
   "name": "python",
   "nbconvert_exporter": "python",
   "pygments_lexer": "ipython3",
   "version": "3.6.6"
  }
 },
 "nbformat": 4,
 "nbformat_minor": 2
}
