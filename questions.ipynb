{
 "cells": [
  {
   "cell_type": "code",
   "execution_count": 10,
   "metadata": {},
   "outputs": [
    {
     "name": "stdout",
     "output_type": "stream",
     "text": [
      "v0.0.4\n",
      "def @main(%a: Tensor[(2, 2), float32], %b: Tensor[(2, 2), float32]) -> Tensor[(1), int32] {\n",
      "  %0 = add(%a, %b) /* ty=Tensor[(2, 2), float32] */;\n",
      "  %1 = shape_of(%0, dtype=\"int32\") /* ty=Tensor[(2), int32] */;\n",
      "  %2 = split(%1, indices_or_sections=2) /* ty=(Tensor[(1), int32], Tensor[(1), int32]) */;\n",
      "  %2.0\n",
      "}\n",
      "\n"
     ]
    }
   ],
   "source": [
    "from tvm import relay\n",
    "import numpy as np\n",
    "\n",
    "a = relay.var(\"a\", shape=(2, 2), dtype=\"float32\")\n",
    "b = relay.var(\"b\", shape=(2, 2), dtype=\"float32\")\n",
    "a_plus_b = relay.add(a, b)\n",
    "shape = relay.shape_of(a_plus_b)\n",
    "splited_shape = relay.split(shape, indices_or_sections=2).astuple()\n",
    "shape_idx0 = relay.TupleGetItem(splited_shape, 0)\n",
    "# shape_idx1 = relay.TupleGetItem(relay.TupleGetItem(splited_shape, 1), 0)\n",
    "# print(shape_idx0)\n",
    "# cst = relay.const(np.ones((1,)).astype(\"int\"))\n",
    "# cmp_res = relay.less(shape_idx0, shape_idx1).astype(\"bool\")\n",
    "# branch = relay.If(cmp_res, a_plus_b, a)\n",
    "args = relay.analysis.free_vars(shape_idx0)\n",
    "func = relay.Function(args, shape_idx0)\n",
    "mod = relay.Module.from_expr(func)\n",
    "mod = relay.transform.InferType()(mod)\n",
    "print(mod)"
   ]
  },
  {
   "cell_type": "code",
   "execution_count": null,
   "metadata": {},
   "outputs": [],
   "source": []
  },
  {
   "cell_type": "code",
   "execution_count": 23,
   "metadata": {},
   "outputs": [
    {
     "name": "stdout",
     "output_type": "stream",
     "text": [
      "v0.0.4\n",
      "meta[relay.Constant][0]\n",
      "// meta data omitted. you can use show_meta_data=True to include meta data\n"
     ]
    }
   ],
   "source": [
    "import numpy as np\n",
    "cst = relay.const(np.ones(1).astype(\"int\"))\n",
    "print(cst)"
   ]
  },
  {
   "cell_type": "code",
   "execution_count": 41,
   "metadata": {
    "scrolled": true
   },
   "outputs": [
    {
     "ename": "AttributeError",
     "evalue": "'numpy.ndarray' object has no attribute 'contents'",
     "output_type": "error",
     "traceback": [
      "\u001b[0;31m---------------------------------------------------------\u001b[0m",
      "\u001b[0;31mAttributeError\u001b[0m          Traceback (most recent call last)",
      "\u001b[0;32m<ipython-input-41-6a295d2f3374>\u001b[0m in \u001b[0;36m<module>\u001b[0;34m()\u001b[0m\n\u001b[0;32m----> 1\u001b[0;31m \u001b[0mcst\u001b[0m \u001b[0;34m=\u001b[0m \u001b[0mrelay\u001b[0m\u001b[0;34m.\u001b[0m\u001b[0mConstant\u001b[0m\u001b[0;34m(\u001b[0m\u001b[0mrelay\u001b[0m\u001b[0;34m.\u001b[0m\u001b[0mconst\u001b[0m\u001b[0;34m(\u001b[0m\u001b[0mtvm\u001b[0m\u001b[0;34m.\u001b[0m\u001b[0mndarray\u001b[0m\u001b[0;34m.\u001b[0m\u001b[0mNDArray\u001b[0m\u001b[0;34m(\u001b[0m\u001b[0mnp\u001b[0m\u001b[0;34m.\u001b[0m\u001b[0mones\u001b[0m\u001b[0;34m(\u001b[0m\u001b[0;36m1\u001b[0m\u001b[0;34m)\u001b[0m\u001b[0;34m.\u001b[0m\u001b[0mastype\u001b[0m\u001b[0;34m(\u001b[0m\u001b[0;34m\"int\"\u001b[0m\u001b[0;34m)\u001b[0m\u001b[0;34m)\u001b[0m\u001b[0;34m)\u001b[0m\u001b[0;34m)\u001b[0m\u001b[0;34m\u001b[0m\u001b[0m\n\u001b[0m\u001b[1;32m      2\u001b[0m \u001b[0;31m# print(cst)\u001b[0m\u001b[0;34m\u001b[0m\u001b[0;34m\u001b[0m\u001b[0m\n",
      "\u001b[0;32m~/tvm/python/tvm/relay/expr.py\u001b[0m in \u001b[0;36mconst\u001b[0;34m(value, dtype)\u001b[0m\n\u001b[1;32m    592\u001b[0m             \u001b[0m_np\u001b[0m\u001b[0;34m.\u001b[0m\u001b[0mdtype\u001b[0m\u001b[0;34m(\u001b[0m\u001b[0;34m'int64'\u001b[0m\u001b[0;34m)\u001b[0m\u001b[0;34m:\u001b[0m \u001b[0m_np\u001b[0m\u001b[0;34m.\u001b[0m\u001b[0mint32\u001b[0m\u001b[0;34m,\u001b[0m\u001b[0;34m\u001b[0m\u001b[0m\n\u001b[1;32m    593\u001b[0m             \u001b[0m_np\u001b[0m\u001b[0;34m.\u001b[0m\u001b[0mdtype\u001b[0m\u001b[0;34m(\u001b[0m\u001b[0;34m'float64'\u001b[0m\u001b[0;34m)\u001b[0m\u001b[0;34m:\u001b[0m \u001b[0m_np\u001b[0m\u001b[0;34m.\u001b[0m\u001b[0mfloat32\u001b[0m\u001b[0;34m\u001b[0m\u001b[0m\n\u001b[0;32m--> 594\u001b[0;31m             }.get(value.dtype, None)\n\u001b[0m\u001b[1;32m    595\u001b[0m         \u001b[0;32mif\u001b[0m \u001b[0mmap_dtype\u001b[0m\u001b[0;34m:\u001b[0m\u001b[0;34m\u001b[0m\u001b[0m\n\u001b[1;32m    596\u001b[0m             \u001b[0mvalue\u001b[0m \u001b[0;34m=\u001b[0m \u001b[0mvalue\u001b[0m\u001b[0;34m.\u001b[0m\u001b[0mastype\u001b[0m\u001b[0;34m(\u001b[0m\u001b[0mmap_dtype\u001b[0m\u001b[0;34m)\u001b[0m\u001b[0;34m\u001b[0m\u001b[0m\n",
      "\u001b[0;32m~/tvm/python/tvm/_ffi/ndarray.py\u001b[0m in \u001b[0;36mdtype\u001b[0;34m(self)\u001b[0m\n\u001b[1;32m    166\u001b[0m     \u001b[0;32mdef\u001b[0m \u001b[0mdtype\u001b[0m\u001b[0;34m(\u001b[0m\u001b[0mself\u001b[0m\u001b[0;34m)\u001b[0m\u001b[0;34m:\u001b[0m\u001b[0;34m\u001b[0m\u001b[0m\n\u001b[1;32m    167\u001b[0m         \u001b[0;34m\"\"\"Type of this array\"\"\"\u001b[0m\u001b[0;34m\u001b[0m\u001b[0m\n\u001b[0;32m--> 168\u001b[0;31m         \u001b[0;32mreturn\u001b[0m \u001b[0mstr\u001b[0m\u001b[0;34m(\u001b[0m\u001b[0mself\u001b[0m\u001b[0;34m.\u001b[0m\u001b[0mhandle\u001b[0m\u001b[0;34m.\u001b[0m\u001b[0mcontents\u001b[0m\u001b[0;34m.\u001b[0m\u001b[0mdtype\u001b[0m\u001b[0;34m)\u001b[0m\u001b[0;34m\u001b[0m\u001b[0m\n\u001b[0m\u001b[1;32m    169\u001b[0m \u001b[0;34m\u001b[0m\u001b[0m\n\u001b[1;32m    170\u001b[0m     \u001b[0;34m@\u001b[0m\u001b[0mproperty\u001b[0m\u001b[0;34m\u001b[0m\u001b[0m\n",
      "\u001b[0;31mAttributeError\u001b[0m: 'numpy.ndarray' object has no attribute 'contents'"
     ]
    }
   ],
   "source": [
    "cst = relay.Constant(relay.const(tvm.ndarray.NDArray(np.ones(1).astype(\"int\"))))\n",
    "# print(cst)"
   ]
  },
  {
   "cell_type": "code",
   "execution_count": 5,
   "metadata": {},
   "outputs": [
    {
     "name": "stdout",
     "output_type": "stream",
     "text": [
      "v0.0.4\n",
      "def @main(%t: Tensor[(1), float32]) -> Tensor[(1), bool] {\n",
      "  %0 = shape_of(%t, dtype=\"int32\") /* ty=Tensor[(1), int32] */;\n",
      "  %1 = split(%0, indices_or_sections=1) /* ty=(Tensor[(1), int32],) */;\n",
      "  %2 = %1.0;\n",
      "  less(%2, %2) /* ty=Tensor[(1), bool] */\n",
      "}\n",
      "\n"
     ]
    }
   ],
   "source": [
    "from tvm import relay\n",
    "import numpy as np\n",
    "\n",
    "t = relay.var('t', shape=(1,), dtype=\"float32\")\n",
    "shape = relay.shape_of(t)\n",
    "tt = relay.split(shape, indices_or_sections=1).astuple()\n",
    "g = relay.TupleGetItem(tt, 0)\n",
    "cmp_res = relay.less(g, g)\n",
    "args = relay.analysis.free_vars(cmp_res)\n",
    "func = relay.Function(args, cmp_res)\n",
    "mod = relay.Module.from_expr(func)\n",
    "mod = relay.transform.InferType()(mod)\n",
    "print(mod)"
   ]
  },
  {
   "cell_type": "code",
   "execution_count": null,
   "metadata": {},
   "outputs": [],
   "source": []
  }
 ],
 "metadata": {
  "kernelspec": {
   "display_name": "Environment (conda_anaconda3)",
   "language": "python",
   "name": "conda_anaconda3"
  },
  "language_info": {
   "codemirror_mode": {
    "name": "ipython",
    "version": 3
   },
   "file_extension": ".py",
   "mimetype": "text/x-python",
   "name": "python",
   "nbconvert_exporter": "python",
   "pygments_lexer": "ipython3",
   "version": "3.6.6"
  }
 },
 "nbformat": 4,
 "nbformat_minor": 2
}
