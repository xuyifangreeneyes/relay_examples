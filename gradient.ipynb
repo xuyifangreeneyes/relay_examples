{
 "cells": [
  {
   "cell_type": "code",
   "execution_count": 1,
   "metadata": {},
   "outputs": [],
   "source": [
    "import tvm\n",
    "from tvm import relay\n",
    "from tvm.relay.testing import run_infer_type\n",
    "from tvm.relay.transform import gradient\n",
    "from tvm.relay import create_executor\n",
    "import numpy as np"
   ]
  },
  {
   "cell_type": "code",
   "execution_count": 2,
   "metadata": {},
   "outputs": [],
   "source": [
    "def show_gradient():   \n",
    "    shape = (2, 2)\n",
    "    dtype = 'float32'\n",
    "    t = relay.TensorType(shape, dtype)\n",
    "    x = relay.var(\"x\", t)\n",
    "    func = relay.Function([x], x + x)\n",
    "    func = run_infer_type(func)\n",
    "    back_func = run_infer_type(gradient(func))\n",
    "    assert back_func.checked_type == relay.FuncType([t], relay.TupleType([t, relay.TupleType([t])]))\n",
    "    ex = create_executor()\n",
    "    x = tvm.nd.array(np.random.rand(*shape).astype(dtype))\n",
    "    print(x)\n",
    "    forward, (grad,) = ex.evaluate(back_func)(x)\n",
    "    print(forward)\n",
    "    print(grad)\n",
    "    tvm.testing.assert_allclose(forward.asnumpy(), 2 * x.asnumpy())\n",
    "    tvm.testing.assert_allclose(grad.asnumpy(), 2 * np.ones_like(x.asnumpy()))"
   ]
  },
  {
   "cell_type": "code",
   "execution_count": 3,
   "metadata": {},
   "outputs": [
    {
     "name": "stdout",
     "output_type": "stream",
     "text": [
      "[[0.2826777  0.9061723 ]\n",
      " [0.7054706  0.94756633]]\n",
      "[[0.5653554 1.8123446]\n",
      " [1.4109412 1.8951327]]\n",
      "[[2. 2.]\n",
      " [2. 2.]]\n"
     ]
    }
   ],
   "source": [
    "show_gradient()"
   ]
  },
  {
   "cell_type": "code",
   "execution_count": null,
   "metadata": {},
   "outputs": [],
   "source": []
  }
 ],
 "metadata": {
  "kernelspec": {
   "display_name": "Environment (conda_anaconda3)",
   "language": "python",
   "name": "conda_anaconda3"
  },
  "language_info": {
   "codemirror_mode": {
    "name": "ipython",
    "version": 3
   },
   "file_extension": ".py",
   "mimetype": "text/x-python",
   "name": "python",
   "nbconvert_exporter": "python",
   "pygments_lexer": "ipython3",
   "version": "3.6.6"
  }
 },
 "nbformat": 4,
 "nbformat_minor": 2
}
