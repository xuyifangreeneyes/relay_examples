{
 "cells": [
  {
   "cell_type": "code",
   "execution_count": 1,
   "metadata": {},
   "outputs": [],
   "source": [
    "import tvm\n",
    "from tvm import relay\n",
    "from tvm.relay.prelude import Prelude"
   ]
  },
  {
   "cell_type": "markdown",
   "metadata": {},
   "source": [
    "### A list ADT: \n",
    "```\n",
    "type List[A] {\n",
    "  Cons(A, List[A]),\n",
    "  Nil,\n",
    "}\n",
    "\n",
    "def @hd[A](%xs: List[A]) -> A {\n",
    "  match? (%xs) {\n",
    "    Cons(%x, _) => %x,\n",
    "  }\n",
    "}\n",
    "\n",
    "def @tl[A](%xs: List[A]) -> List[A] {\n",
    "  match? (%xs) {\n",
    "    Cons(_, %rest) => %rest,\n",
    "  }\n",
    "}\n",
    "\n",
    "def @nth[A](%xs: List[A], %n: Tensor[(), int32]) -> A {\n",
    "  if (%n == 0) {\n",
    "    @hd(%xs)\n",
    "  } else {\n",
    "    @nth(@tl(%xs), %n - 1)\n",
    "  }\n",
    "}\n",
    "```"
   ]
  },
  {
   "cell_type": "code",
   "execution_count": 10,
   "metadata": {},
   "outputs": [
    {
     "name": "stdout",
     "output_type": "stream",
     "text": [
      "v0.0.4\n",
      "fn (%data: Tensor[(2, 2), int32]) -> int32 {\n",
      "  let %len_func-malformed-ir = fn (%current_list: List[Tensor[(2, 2), int32]]) -> int32 {\n",
      "    match (%current_list) {\n",
      "      Nil => 0 /* ty=int32 */,\n",
      "      Cons(%x: Tensor[(2, 2), int32], %y: List[Tensor[(2, 2), int32]]) => free_var %len_func: fn (List[Tensor[(2, 2), int32]]) -> int32\n",
      "      %0 = %len_func(%y) /* ty=int32 */;\n",
      "      add(1 /* ty=int32 */, %0) /* ty=int32 */,\n",
      "    }\n",
      "  };\n",
      "  %1 = Nil /* ty=List[Tensor[(2, 2), int32]] */;\n",
      "  %2 = Cons(%data, %1) /* ty=List[Tensor[(2, 2), int32]] */;\n",
      "  %3 = Cons(%data, %2) /* ty=List[Tensor[(2, 2), int32]] */;\n",
      "  %len_func(%3) /* ty=int32 */\n",
      "}\n"
     ]
    }
   ],
   "source": [
    "mod = relay.Module()\n",
    "p = Prelude(mod)  # here we import Relay text\n",
    "nil = p.nil\n",
    "cons = p.cons\n",
    "hd = p.hd\n",
    "tl = p.tl\n",
    "nth = p.nth\n",
    "l = p.l\n",
    "\n",
    "mytype = relay.TensorType((2, 2), \"float32\")\n",
    "a = relay.Var(\"data\", mytype)\n",
    "b = cons(a, cons(a, nil()))\n",
    "\n",
    "len_func = relay.Var(\"len_func\")\n",
    "\n",
    "current_list = relay.Var(\"current_list\", l(mytype))\n",
    "\n",
    "x = relay.Var(\"x\", mytype)\n",
    "y = relay.Var(\"y\", l(mytype))\n",
    "match = relay.Match(\n",
    "    current_list,\n",
    "    [relay.Clause(relay.PatternConstructor(nil), relay.const(0, dtype=\"int32\")),\n",
    "     relay.Clause(relay.PatternConstructor(cons, [relay.PatternVar(x), relay.PatternVar(y)]), \n",
    "                  relay.const(1, dtype=\"int32\") + len_func(y))]\n",
    ")\n",
    "func = relay.Function([current_list], match)\n",
    "ret = relay.Let(len_func, func, len_func(b))\n",
    "mod[\"main\"] = relay.Function([a], ret)    \n",
    "print(mod[\"main\"])"
   ]
  },
  {
   "cell_type": "code",
   "execution_count": 3,
   "metadata": {},
   "outputs": [
    {
     "name": "stdout",
     "output_type": "stream",
     "text": [
      "18\n",
      "16\n",
      "14\n",
      "12\n",
      "10\n",
      "8\n",
      "6\n",
      "4\n",
      "2\n",
      "0\n"
     ]
    }
   ],
   "source": [
    "l = nil()\n",
    "for i in range(10):\n",
    "    l = cons(relay.const(2 * i), l)\n",
    "for i in range(10):\n",
    "    item = intrp.evaluate(nth(l, relay.const(i)))\n",
    "    print(item)"
   ]
  },
  {
   "cell_type": "code",
   "execution_count": null,
   "metadata": {},
   "outputs": [],
   "source": []
  }
 ],
 "metadata": {
  "kernelspec": {
   "display_name": "Environment (conda_anaconda3)",
   "language": "python",
   "name": "conda_anaconda3"
  },
  "language_info": {
   "codemirror_mode": {
    "name": "ipython",
    "version": 3
   },
   "file_extension": ".py",
   "mimetype": "text/x-python",
   "name": "python",
   "nbconvert_exporter": "python",
   "pygments_lexer": "ipython3",
   "version": "3.6.6"
  }
 },
 "nbformat": 4,
 "nbformat_minor": 2
}
