{
 "cells": [
  {
   "cell_type": "code",
   "execution_count": 1,
   "metadata": {},
   "outputs": [
    {
     "name": "stdout",
     "output_type": "stream",
     "text": [
      "v0.0.4\n",
      "def @myfun(%acc: Tensor[(2, 2), float32], %x: Tensor[(2, 2), float32], %n: int32) -> Tensor[(2, 2), float32] {\n",
      "  %0 = greater(%n, 0 /* ty=int32 */) /* ty=bool */;\n",
      "  if (%0) {\n",
      "    %1 = add(%acc, %x) /* ty=Tensor[(2, 2), float32] */;\n",
      "    %2 = subtract(%n, 1 /* ty=int32 */) /* ty=int32 */;\n",
      "    @myfun(%1, %x, %2) /* ty=Tensor[(2, 2), float32] */\n",
      "  } else {\n",
      "    %acc\n",
      "  }\n",
      "}\n",
      "\n"
     ]
    }
   ],
   "source": [
    "import numpy as np\n",
    "from tvm import relay\n",
    "import tvm\n",
    "from tvm.contrib import graph_runtime\n",
    "\n",
    "myrelay = \"\"\"\n",
    "v0.0.4\n",
    "\n",
    "def @myfun(%acc : Tensor[(2, 2), float32],\n",
    "           %x   : Tensor[(2, 2), float32],\n",
    "           %n   : int32) -> Tensor[(2, 2), float32] {\n",
    "  if (%n > 0) {\n",
    "    @myfun(%acc + %x, %x, %n - 1)\n",
    "  } else {\n",
    "    %acc\n",
    "  }\n",
    "}\n",
    "\"\"\"\n",
    "\n",
    "my_relay_module = relay.fromtext(myrelay)\n",
    "print(my_relay_module.astext())"
   ]
  },
  {
   "cell_type": "code",
   "execution_count": 2,
   "metadata": {},
   "outputs": [
    {
     "name": "stdout",
     "output_type": "stream",
     "text": [
      "[[10.955878 14.607113]\n",
      " [16.36648  12.612855]]\n"
     ]
    }
   ],
   "source": [
    "ctx = tvm.cpu()\n",
    "opt_level = 3\n",
    "target = tvm.target.create('llvm')\n",
    "with relay.build_config(opt_level=opt_level):\n",
    "    executor = relay.build_module.create_executor(\n",
    "        'vm', my_relay_module, ctx, target)\n",
    "\n",
    "myfun_reified = executor.evaluate(my_relay_module.get_global_var('myfun'))\n",
    "data = np.random.uniform(1, 2, size=(2, 2)).astype('float32')\n",
    "acc = np.zeros(shape=(2, 2), dtype=np.float32)\n",
    "\n",
    "out = myfun_reified(acc, data, 10).asnumpy()\n",
    "print(out)"
   ]
  },
  {
   "cell_type": "code",
   "execution_count": null,
   "metadata": {},
   "outputs": [],
   "source": []
  }
 ],
 "metadata": {
  "kernelspec": {
   "display_name": "Environment (conda_anaconda3)",
   "language": "python",
   "name": "conda_anaconda3"
  },
  "language_info": {
   "codemirror_mode": {
    "name": "ipython",
    "version": 3
   },
   "file_extension": ".py",
   "mimetype": "text/x-python",
   "name": "python",
   "nbconvert_exporter": "python",
   "pygments_lexer": "ipython3",
   "version": "3.6.6"
  }
 },
 "nbformat": 4,
 "nbformat_minor": 2
}
