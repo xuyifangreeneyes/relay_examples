{
 "cells": [
  {
   "cell_type": "code",
   "execution_count": 1,
   "metadata": {},
   "outputs": [],
   "source": [
    "import tvm\n",
    "from tvm import relay"
   ]
  },
  {
   "cell_type": "code",
   "execution_count": 13,
   "metadata": {},
   "outputs": [],
   "source": [
    "def show_high_order():\n",
    "    x = relay.var('x', shape=())\n",
    "    f = relay.var('f')\n",
    "    inc_func = relay.Function([x], x + relay.const(1.0))\n",
    "    ho_func = relay.Function([f], relay.Function([], f(relay.const(1.0))))\n",
    "    mod = relay.Module()\n",
    "    mod[\"main\"] = relay.Function([], ho_func(inc_func)())\n",
    "    ex = relay.create_executor(mod=mod, ctx=tvm.cpu(), target=\"llvm\")\n",
    "    result = ex.evaluate()()\n",
    "    print(result.asnumpy())"
   ]
  },
  {
   "cell_type": "code",
   "execution_count": 14,
   "metadata": {},
   "outputs": [
    {
     "name": "stdout",
     "output_type": "stream",
     "text": [
      "2.0\n"
     ]
    }
   ],
   "source": [
    "show_high_order()"
   ]
  },
  {
   "cell_type": "code",
   "execution_count": 4,
   "metadata": {},
   "outputs": [],
   "source": [
    "def show_closure():\n",
    "    x = relay.var('x')\n",
    "    y = relay.var('y')\n",
    "    f = relay.Function([x], x + y)\n",
    "    ff = relay.Function([y], f)\n",
    "    clo = ff(relay.const(1.0))\n",
    "    mod = relay.Module()\n",
    "    mod[\"main\"] = clo(relay.const(2.0))\n",
    "    ex = relay.create_executor(mod=mod, ctx=tvm.cpu(), target=\"llvm\")\n",
    "    result = ex.evaluate()()\n",
    "    print(result.asnumpy())"
   ]
  },
  {
   "cell_type": "code",
   "execution_count": 5,
   "metadata": {},
   "outputs": [
    {
     "name": "stdout",
     "output_type": "stream",
     "text": [
      "3.0\n"
     ]
    }
   ],
   "source": [
    "show_closure()"
   ]
  }
 ],
 "metadata": {
  "kernelspec": {
   "display_name": "Environment (conda_anaconda3)",
   "language": "python",
   "name": "conda_anaconda3"
  },
  "language_info": {
   "codemirror_mode": {
    "name": "ipython",
    "version": 3
   },
   "file_extension": ".py",
   "mimetype": "text/x-python",
   "name": "python",
   "nbconvert_exporter": "python",
   "pygments_lexer": "ipython3",
   "version": "3.6.6"
  }
 },
 "nbformat": 4,
 "nbformat_minor": 2
}
