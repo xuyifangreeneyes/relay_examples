{
 "cells": [
  {
   "cell_type": "code",
   "execution_count": 1,
   "metadata": {},
   "outputs": [],
   "source": [
    "from tvm import relay\n",
    "from tvm.relay import testing"
   ]
  },
  {
   "cell_type": "code",
   "execution_count": 2,
   "metadata": {},
   "outputs": [],
   "source": [
    "def get_net(batch_size,\n",
    "            num_classes=10,\n",
    "            image_shape=(1, 28, 28),\n",
    "            dtype=\"float32\"):\n",
    "    data_shape = (batch_size,) + image_shape\n",
    "    data = relay.var(\"data\", shape=data_shape, dtype=dtype)\n",
    "    fc1 = relay.nn.dense(data, relay.var(\"fc1_weight\"), units=128)\n",
    "    fc1 = relay.nn.bias_add(fc1, relay.var(\"fc1_bias\"), axis=-1)\n",
    "    act1 = relay.nn.relu(fc1)\n",
    "    fc2 = relay.nn.dense(act1, relay.var(\"fc2_weight\"), units=64)\n",
    "    fc2 = relay.nn.bias_add(fc2, relay.var(\"fc2_bias\"), axis=-1)\n",
    "    act2 = relay.nn.relu(fc2)\n",
    "    fc3 = relay.nn.dense(act2, relay.var(\"fc3_weight\"), units=num_classes)\n",
    "    fc3 = relay.nn.bias_add(fc3, relay.var(\"fc3_bias\"), axis=-1)\n",
    "    mlp = relay.nn.softmax(data=fc3)\n",
    "    args = relay.analysis.free_vars(mlp)\n",
    "    return relay.Function(args, mlp)"
   ]
  },
  {
   "cell_type": "code",
   "execution_count": 5,
   "metadata": {},
   "outputs": [],
   "source": [
    "def get_workload(batch_size,\n",
    "                 num_classes=10,\n",
    "                 image_shape=(1, 28, 28),\n",
    "                 dtype=\"float32\"):\n",
    "    net = get_net(batch_size, num_classes, image_shape, dtype)\n",
    "    return testing.create_workload(net)"
   ]
  },
  {
   "cell_type": "code",
   "execution_count": 6,
   "metadata": {},
   "outputs": [],
   "source": [
    "batch_size = 1\n",
    "net, params = get_workload(batch_size)"
   ]
  },
  {
   "cell_type": "code",
   "execution_count": 7,
   "metadata": {},
   "outputs": [
    {
     "name": "stdout",
     "output_type": "stream",
     "text": [
      "v0.0.4\n",
      "def @main(%data: Tensor[(1, 1, 28, 28), float32], %fc1_weight: Tensor[(128, 28), float32], %fc1_bias: Tensor[(128), float32], %fc2_weight: Tensor[(64, 128), float32], %fc2_bias: Tensor[(64), float32], %fc3_weight: Tensor[(10, 64), float32], %fc3_bias: Tensor[(10), float32]) -> Tensor[(1, 1, 28, 10), float32] {\n",
      "  %0 = nn.dense(%data, %fc1_weight, units=128) /* ty=Tensor[(1, 1, 28, 128), float32] */;\n",
      "  %1 = nn.bias_add(%0, %fc1_bias, axis=-1) /* ty=Tensor[(1, 1, 28, 128), float32] */;\n",
      "  %2 = nn.relu(%1) /* ty=Tensor[(1, 1, 28, 128), float32] */;\n",
      "  %3 = nn.dense(%2, %fc2_weight, units=64) /* ty=Tensor[(1, 1, 28, 64), float32] */;\n",
      "  %4 = nn.bias_add(%3, %fc2_bias, axis=-1) /* ty=Tensor[(1, 1, 28, 64), float32] */;\n",
      "  %5 = nn.relu(%4) /* ty=Tensor[(1, 1, 28, 64), float32] */;\n",
      "  %6 = nn.dense(%5, %fc3_weight, units=10) /* ty=Tensor[(1, 1, 28, 10), float32] */;\n",
      "  %7 = nn.bias_add(%6, %fc3_bias, axis=-1) /* ty=Tensor[(1, 1, 28, 10), float32] */;\n",
      "  nn.softmax(%7) /* ty=Tensor[(1, 1, 28, 10), float32] */\n",
      "}\n",
      "\n"
     ]
    }
   ],
   "source": [
    "print(net)"
   ]
  },
  {
   "cell_type": "code",
   "execution_count": null,
   "metadata": {},
   "outputs": [],
   "source": [
    "print(params)"
   ]
  }
 ],
 "metadata": {
  "kernelspec": {
   "display_name": "Environment (conda_anaconda3)",
   "language": "python",
   "name": "conda_anaconda3"
  },
  "language_info": {
   "codemirror_mode": {
    "name": "ipython",
    "version": 3
   },
   "file_extension": ".py",
   "mimetype": "text/x-python",
   "name": "python",
   "nbconvert_exporter": "python",
   "pygments_lexer": "ipython3",
   "version": "3.6.6"
  }
 },
 "nbformat": 4,
 "nbformat_minor": 2
}
