{
 "cells": [
  {
   "cell_type": "code",
   "execution_count": 1,
   "metadata": {},
   "outputs": [],
   "source": [
    "import tvm\n",
    "from tvm import relay\n",
    "import numpy as np"
   ]
  },
  {
   "cell_type": "code",
   "execution_count": 2,
   "metadata": {},
   "outputs": [
    {
     "name": "stdout",
     "output_type": "stream",
     "text": [
      "v0.0.4\n",
      "fn (%x: Tensor[(2), float32]) -> Tensor[(2), float32] {\n",
      "  let %while_loop-malformed-ir = fn (%i: int32, %s: Tensor[(2), float32]) -> Tensor[(2), float32] {\n",
      "    %0 = less(%i, 10 /* ty=int32 */) /* ty=bool */;\n",
      "    if (%0) {\n",
      "      %1 = add(%i, 1 /* ty=int32 */) /* ty=int32 */;\n",
      "      %2 = add(%s, %x) /* ty=Tensor[(2), float32] */;\n",
      "      free_var %while_loop: fn (int32, Tensor[(2), float32]) -> Tensor[(2), float32]\n",
      "      %while_loop(%1, %2) /* ty=Tensor[(2), float32] */\n",
      "    } else {\n",
      "      %s\n",
      "    }\n",
      "  };\n",
      "  %3 = zeros(shape=[2], dtype=\"float32\") /* ty=Tensor[(2), float32] */;\n",
      "  %while_loop(0 /* ty=int32 */, %3) /* ty=Tensor[(2), float32] */\n",
      "}\n"
     ]
    }
   ],
   "source": [
    "x = relay.var('x', shape=(2,))\n",
    "i = relay.var('i', shape=(), dtype='int32')\n",
    "s = relay.var('s', shape=(2,))\n",
    "cond = i < relay.const(10, dtype='int32')\n",
    "\n",
    "loop = relay.var('while_loop')\n",
    "sb = relay.scope_builder.ScopeBuilder()\n",
    "with sb.if_scope(cond):\n",
    "    ii = i + relay.const(1, dtype='int32')\n",
    "    ss = s + x\n",
    "    sb.ret(loop(ii, ss))\n",
    "with sb.else_scope():\n",
    "    sb.ret(s)\n",
    "func = relay.Function([i, s], sb.get())\n",
    "ret = relay.Let(loop, func, loop(relay.const(0, dtype='int32'), \n",
    "                                 relay.zeros(shape=(2,), dtype='float32')))\n",
    "mod = relay.Module()\n",
    "mod[\"main\"] = relay.Function([x], ret)\n",
    "print(mod[\"main\"])\n",
    "mod = relay.transform.LambdaLift()(mod)"
   ]
  },
  {
   "cell_type": "code",
   "execution_count": 21,
   "metadata": {},
   "outputs": [
    {
     "data": {
      "text/plain": [
       "ModuleNode( {GlobalVar(main): FunctionNode([Var(x, ty=TensorType([2], float32))], TensorType([2], float32), LetNode(Var(while_loop, ty=FuncTypeNode([], [TensorType([], int32), TensorType([2], float32)], TensorType([2], float32), [])), CallNode(GlobalVar(lifted_name422677828083013123), [Var(x, ty=TensorType([2], float32))], (nullptr), []), CallNode(Var(while_loop, ty=FuncTypeNode([], [TensorType([], int32), TensorType([2], float32)], TensorType([2], float32), [])), [Constant(0), CallNode(Op(zeros), [], relay.attrs.InitOpAttrs(0x558b5a816338), [])], (nullptr), [])), [], (nullptr)), GlobalVar(lifted_name422677828083013123): FunctionNode([Var(x, ty=TensorType([2], float32))], FuncTypeNode([], [TensorType([], int32), TensorType([2], float32)], TensorType([2], float32), []), FunctionNode([Var(i, ty=TensorType([], int32)), Var(s, ty=TensorType([2], float32))], TensorType([2], float32), IfNode(CallNode(Op(less), [Var(i, ty=TensorType([], int32)), Constant(10)], (nullptr), [TensorType([], int32), TensorType([], int32)]), CallNode(Op(add), [Var(s, ty=TensorType([2], float32)), Var(x, ty=TensorType([2], float32))], (nullptr), [TensorType([2], float32), TensorType([2], float32)]), Var(s, ty=TensorType([2], float32))), [], (nullptr)), [], {\"IsClosure\": 1})})"
      ]
     },
     "execution_count": 21,
     "metadata": {},
     "output_type": "execute_result"
    }
   ],
   "source": [
    "new_mod"
   ]
  },
  {
   "cell_type": "code",
   "execution_count": 3,
   "metadata": {},
   "outputs": [
    {
     "ename": "TVMError",
     "evalue": "Traceback (most recent call last):\n  [bt] (5) /home/ubuntu/tvm/build/libtvm.so(TVMFuncCall+0x61) [0x7fedbb5819a1]\n  [bt] (4) /home/ubuntu/tvm/build/libtvm.so(+0x11d86f8) [0x7fedbb44a6f8]\n  [bt] (3) /home/ubuntu/tvm/build/libtvm.so(+0x11d85c0) [0x7fedbb44a5c0]\n  [bt] (2) /home/ubuntu/tvm/build/libtvm.so(tvm::relay::vm::VMCompiler::Compile(tvm::relay::Module, tvm::Map<tvm::Integer, tvm::Target, void, void> const&, tvm::Target const&)+0xe8b) [0x7fedbb448a8b]\n  [bt] (1) /home/ubuntu/tvm/build/libtvm.so(tvm::relay::Function tvm::runtime::Downcast<tvm::relay::Function, tvm::relay::Expr>(tvm::relay::Expr)+0x198) [0x7fedbb2d8958]\n  [bt] (0) /home/ubuntu/tvm/build/libtvm.so(dmlc::LogMessageFatal::~LogMessageFatal()+0x32) [0x7fedbada8352]\n  File \"/home/ubuntu/tvm/include/tvm/runtime/object.h\", line 806\nTVMError: Check failed: ref->template IsInstance<typename SubRef: :ContainerType>(): Downcast from relay.Let to relay.Function failed.",
     "output_type": "error",
     "traceback": [
      "\u001b[0;31m---------------------------------------------------------------------------\u001b[0m",
      "\u001b[0;31mTVMError\u001b[0m                                  Traceback (most recent call last)",
      "\u001b[0;32m<ipython-input-3-92068f91c61d>\u001b[0m in \u001b[0;36m<module>\u001b[0;34m()\u001b[0m\n\u001b[1;32m      1\u001b[0m \u001b[0;32mwith\u001b[0m \u001b[0mrelay\u001b[0m\u001b[0;34m.\u001b[0m\u001b[0mbuild_config\u001b[0m\u001b[0;34m(\u001b[0m\u001b[0mopt_level\u001b[0m\u001b[0;34m=\u001b[0m\u001b[0;36m1\u001b[0m\u001b[0;34m)\u001b[0m\u001b[0;34m:\u001b[0m\u001b[0;34m\u001b[0m\u001b[0m\n\u001b[0;32m----> 2\u001b[0;31m     \u001b[0mex\u001b[0m \u001b[0;34m=\u001b[0m \u001b[0mrelay\u001b[0m\u001b[0;34m.\u001b[0m\u001b[0mcreate_executor\u001b[0m\u001b[0;34m(\u001b[0m\u001b[0;34m\"vm\"\u001b[0m\u001b[0;34m,\u001b[0m \u001b[0mmod\u001b[0m\u001b[0;34m=\u001b[0m\u001b[0mmod\u001b[0m\u001b[0;34m,\u001b[0m \u001b[0mctx\u001b[0m\u001b[0;34m=\u001b[0m\u001b[0mtvm\u001b[0m\u001b[0;34m.\u001b[0m\u001b[0mcpu\u001b[0m\u001b[0;34m(\u001b[0m\u001b[0;34m)\u001b[0m\u001b[0;34m,\u001b[0m \u001b[0mtarget\u001b[0m\u001b[0;34m=\u001b[0m\u001b[0;34m\"llvm\"\u001b[0m\u001b[0;34m)\u001b[0m\u001b[0;34m\u001b[0m\u001b[0m\n\u001b[0m\u001b[1;32m      3\u001b[0m \u001b[0mresult\u001b[0m \u001b[0;34m=\u001b[0m \u001b[0mex\u001b[0m\u001b[0;34m.\u001b[0m\u001b[0mevaluate\u001b[0m\u001b[0;34m(\u001b[0m\u001b[0;34m)\u001b[0m\u001b[0;34m(\u001b[0m\u001b[0mnp\u001b[0m\u001b[0;34m.\u001b[0m\u001b[0mones\u001b[0m\u001b[0;34m(\u001b[0m\u001b[0;34m(\u001b[0m\u001b[0;36m2\u001b[0m\u001b[0;34m,\u001b[0m\u001b[0;34m)\u001b[0m\u001b[0;34m,\u001b[0m \u001b[0mdtype\u001b[0m\u001b[0;34m=\u001b[0m\u001b[0;34m'float32'\u001b[0m\u001b[0;34m)\u001b[0m\u001b[0;34m)\u001b[0m\u001b[0;34m\u001b[0m\u001b[0m\n\u001b[1;32m      4\u001b[0m \u001b[0mprint\u001b[0m\u001b[0;34m(\u001b[0m\u001b[0mresult\u001b[0m\u001b[0;34m.\u001b[0m\u001b[0masnumpy\u001b[0m\u001b[0;34m(\u001b[0m\u001b[0;34m)\u001b[0m\u001b[0;34m)\u001b[0m\u001b[0;34m\u001b[0m\u001b[0m\n",
      "\u001b[0;32m~/tvm/python/tvm/relay/build_module.py\u001b[0m in \u001b[0;36mcreate_executor\u001b[0;34m(kind, mod, ctx, target)\u001b[0m\n\u001b[1;32m    382\u001b[0m         \u001b[0;32mreturn\u001b[0m \u001b[0mGraphExecutor\u001b[0m\u001b[0;34m(\u001b[0m\u001b[0mmod\u001b[0m\u001b[0;34m,\u001b[0m \u001b[0mctx\u001b[0m\u001b[0;34m,\u001b[0m \u001b[0mtarget\u001b[0m\u001b[0;34m)\u001b[0m\u001b[0;34m\u001b[0m\u001b[0m\n\u001b[1;32m    383\u001b[0m     \u001b[0;32melif\u001b[0m \u001b[0mkind\u001b[0m \u001b[0;34m==\u001b[0m \u001b[0;34m\"vm\"\u001b[0m\u001b[0;34m:\u001b[0m\u001b[0;34m\u001b[0m\u001b[0m\n\u001b[0;32m--> 384\u001b[0;31m         \u001b[0;32mreturn\u001b[0m \u001b[0mVMExecutor\u001b[0m\u001b[0;34m(\u001b[0m\u001b[0mmod\u001b[0m\u001b[0;34m,\u001b[0m \u001b[0mctx\u001b[0m\u001b[0;34m,\u001b[0m \u001b[0mtarget\u001b[0m\u001b[0;34m)\u001b[0m\u001b[0;34m\u001b[0m\u001b[0m\n\u001b[0m\u001b[1;32m    385\u001b[0m     \u001b[0;32melse\u001b[0m\u001b[0;34m:\u001b[0m\u001b[0;34m\u001b[0m\u001b[0m\n\u001b[1;32m    386\u001b[0m         \u001b[0;32mraise\u001b[0m \u001b[0mRuntimeError\u001b[0m\u001b[0;34m(\u001b[0m\u001b[0;34m\"unknown execution strategy: {0}\"\u001b[0m\u001b[0;34m.\u001b[0m\u001b[0mformat\u001b[0m\u001b[0;34m(\u001b[0m\u001b[0mkind\u001b[0m\u001b[0;34m)\u001b[0m\u001b[0;34m)\u001b[0m\u001b[0;34m\u001b[0m\u001b[0m\n",
      "\u001b[0;32m~/tvm/python/tvm/relay/backend/vm.py\u001b[0m in \u001b[0;36m__init__\u001b[0;34m(self, mod, ctx, target)\u001b[0m\n\u001b[1;32m    480\u001b[0m         \u001b[0mself\u001b[0m\u001b[0;34m.\u001b[0m\u001b[0mctx\u001b[0m \u001b[0;34m=\u001b[0m \u001b[0mctx\u001b[0m\u001b[0;34m\u001b[0m\u001b[0m\n\u001b[1;32m    481\u001b[0m         \u001b[0mself\u001b[0m\u001b[0;34m.\u001b[0m\u001b[0mtarget\u001b[0m \u001b[0;34m=\u001b[0m \u001b[0mtarget\u001b[0m\u001b[0;34m\u001b[0m\u001b[0m\n\u001b[0;32m--> 482\u001b[0;31m         \u001b[0mself\u001b[0m\u001b[0;34m.\u001b[0m\u001b[0mexecutable\u001b[0m \u001b[0;34m=\u001b[0m \u001b[0mcompile\u001b[0m\u001b[0;34m(\u001b[0m\u001b[0mmod\u001b[0m\u001b[0;34m,\u001b[0m \u001b[0mtarget\u001b[0m\u001b[0;34m)\u001b[0m\u001b[0;34m\u001b[0m\u001b[0m\n\u001b[0m\u001b[1;32m    483\u001b[0m         \u001b[0mself\u001b[0m\u001b[0;34m.\u001b[0m\u001b[0mvm\u001b[0m \u001b[0;34m=\u001b[0m \u001b[0mVirtualMachine\u001b[0m\u001b[0;34m(\u001b[0m\u001b[0mself\u001b[0m\u001b[0;34m.\u001b[0m\u001b[0mexecutable\u001b[0m\u001b[0;34m)\u001b[0m\u001b[0;34m\u001b[0m\u001b[0m\n\u001b[1;32m    484\u001b[0m         \u001b[0mself\u001b[0m\u001b[0;34m.\u001b[0m\u001b[0mvm\u001b[0m\u001b[0;34m.\u001b[0m\u001b[0minit\u001b[0m\u001b[0;34m(\u001b[0m\u001b[0mctx\u001b[0m\u001b[0;34m)\u001b[0m\u001b[0;34m\u001b[0m\u001b[0m\n",
      "\u001b[0;32m~/tvm/python/tvm/relay/backend/vm.py\u001b[0m in \u001b[0;36mcompile\u001b[0;34m(mod, target, target_host, params)\u001b[0m\n\u001b[1;32m    394\u001b[0m     \u001b[0mtophub_context\u001b[0m \u001b[0;34m=\u001b[0m \u001b[0mcompiler\u001b[0m\u001b[0;34m.\u001b[0m\u001b[0mtophub_context\u001b[0m\u001b[0;34m(\u001b[0m\u001b[0mtarget\u001b[0m\u001b[0;34m)\u001b[0m\u001b[0;34m\u001b[0m\u001b[0m\n\u001b[1;32m    395\u001b[0m     \u001b[0;32mwith\u001b[0m \u001b[0mtophub_context\u001b[0m\u001b[0;34m:\u001b[0m\u001b[0;34m\u001b[0m\u001b[0m\n\u001b[0;32m--> 396\u001b[0;31m         \u001b[0mcompiler\u001b[0m\u001b[0;34m.\u001b[0m\u001b[0m_compile\u001b[0m\u001b[0;34m(\u001b[0m\u001b[0mmod\u001b[0m\u001b[0;34m,\u001b[0m \u001b[0mtarget\u001b[0m\u001b[0;34m,\u001b[0m \u001b[0mtarget_host\u001b[0m\u001b[0;34m)\u001b[0m\u001b[0;34m\u001b[0m\u001b[0m\n\u001b[0m\u001b[1;32m    397\u001b[0m     \u001b[0;32mreturn\u001b[0m \u001b[0mExecutable\u001b[0m\u001b[0;34m(\u001b[0m\u001b[0mcompiler\u001b[0m\u001b[0;34m.\u001b[0m\u001b[0m_get_exec\u001b[0m\u001b[0;34m(\u001b[0m\u001b[0;34m)\u001b[0m\u001b[0;34m)\u001b[0m\u001b[0;34m\u001b[0m\u001b[0m\n\u001b[1;32m    398\u001b[0m \u001b[0;34m\u001b[0m\u001b[0m\n",
      "\u001b[0;32m~/tvm/python/tvm/_ffi/_ctypes/function.py\u001b[0m in \u001b[0;36m__call__\u001b[0;34m(self, *args)\u001b[0m\n\u001b[1;32m    205\u001b[0m                 \u001b[0mself\u001b[0m\u001b[0;34m.\u001b[0m\u001b[0mhandle\u001b[0m\u001b[0;34m,\u001b[0m \u001b[0mvalues\u001b[0m\u001b[0;34m,\u001b[0m \u001b[0mtcodes\u001b[0m\u001b[0;34m,\u001b[0m \u001b[0mctypes\u001b[0m\u001b[0;34m.\u001b[0m\u001b[0mc_int\u001b[0m\u001b[0;34m(\u001b[0m\u001b[0mnum_args\u001b[0m\u001b[0;34m)\u001b[0m\u001b[0;34m,\u001b[0m\u001b[0;34m\u001b[0m\u001b[0m\n\u001b[1;32m    206\u001b[0m                 ctypes.byref(ret_val), ctypes.byref(ret_tcode)) != 0:\n\u001b[0;32m--> 207\u001b[0;31m             \u001b[0;32mraise\u001b[0m \u001b[0mget_last_ffi_error\u001b[0m\u001b[0;34m(\u001b[0m\u001b[0;34m)\u001b[0m\u001b[0;34m\u001b[0m\u001b[0m\n\u001b[0m\u001b[1;32m    208\u001b[0m         \u001b[0m_\u001b[0m \u001b[0;34m=\u001b[0m \u001b[0mtemp_args\u001b[0m\u001b[0;34m\u001b[0m\u001b[0m\n\u001b[1;32m    209\u001b[0m         \u001b[0m_\u001b[0m \u001b[0;34m=\u001b[0m \u001b[0margs\u001b[0m\u001b[0;34m\u001b[0m\u001b[0m\n",
      "\u001b[0;31mTVMError\u001b[0m: Traceback (most recent call last):\n  [bt] (5) /home/ubuntu/tvm/build/libtvm.so(TVMFuncCall+0x61) [0x7fedbb5819a1]\n  [bt] (4) /home/ubuntu/tvm/build/libtvm.so(+0x11d86f8) [0x7fedbb44a6f8]\n  [bt] (3) /home/ubuntu/tvm/build/libtvm.so(+0x11d85c0) [0x7fedbb44a5c0]\n  [bt] (2) /home/ubuntu/tvm/build/libtvm.so(tvm::relay::vm::VMCompiler::Compile(tvm::relay::Module, tvm::Map<tvm::Integer, tvm::Target, void, void> const&, tvm::Target const&)+0xe8b) [0x7fedbb448a8b]\n  [bt] (1) /home/ubuntu/tvm/build/libtvm.so(tvm::relay::Function tvm::runtime::Downcast<tvm::relay::Function, tvm::relay::Expr>(tvm::relay::Expr)+0x198) [0x7fedbb2d8958]\n  [bt] (0) /home/ubuntu/tvm/build/libtvm.so(dmlc::LogMessageFatal::~LogMessageFatal()+0x32) [0x7fedbada8352]\n  File \"/home/ubuntu/tvm/include/tvm/runtime/object.h\", line 806\nTVMError: Check failed: ref->template IsInstance<typename SubRef: :ContainerType>(): Downcast from relay.Let to relay.Function failed."
     ]
    }
   ],
   "source": [
    "with relay.build_config(opt_level=1):\n",
    "    ex = relay.create_executor(\"debug\", mod=mod, ctx=tvm.cpu(), target=\"llvm\")\n",
    "result = ex.evaluate()(np.ones((2,), dtype='float32'))\n",
    "print(result.asnumpy())"
   ]
  },
  {
   "cell_type": "code",
   "execution_count": null,
   "metadata": {},
   "outputs": [],
   "source": []
  }
 ],
 "metadata": {
  "kernelspec": {
   "display_name": "Environment (conda_anaconda3)",
   "language": "python",
   "name": "conda_anaconda3"
  },
  "language_info": {
   "codemirror_mode": {
    "name": "ipython",
    "version": 3
   },
   "file_extension": ".py",
   "mimetype": "text/x-python",
   "name": "python",
   "nbconvert_exporter": "python",
   "pygments_lexer": "ipython3",
   "version": "3.6.6"
  }
 },
 "nbformat": 4,
 "nbformat_minor": 2
}
