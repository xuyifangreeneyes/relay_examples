{
 "cells": [
  {
   "cell_type": "code",
   "execution_count": 19,
   "metadata": {},
   "outputs": [],
   "source": [
    "import tvm\n",
    "from tvm import relay\n",
    "from tvm.relay.prelude import Prelude\n",
    "from tvm.relay.testing import layers\n",
    "import numpy as np"
   ]
  },
  {
   "cell_type": "code",
   "execution_count": 20,
   "metadata": {},
   "outputs": [],
   "source": [
    "def get_types(input_size, hidden_size, batch_size=1, dtype=\"float32\"):\n",
    "    input_type = relay.TensorType((batch_size, input_size), dtype)\n",
    "    hidden_type = relay.TensorType((batch_size, hidden_size), dtype)\n",
    "    i2h_weight_type = relay.TensorType((4 * hidden_size, input_size), dtype)\n",
    "    h2h_weight_type = relay.TensorType((4 * hidden_size, hidden_size), dtype)\n",
    "    bias_type = relay.TensorType((4 * hidden_size,), dtype)\n",
    "    dense_type = relay.TensorType((batch_size, 4 * hidden_size), dtype)\n",
    "    slice_type = relay.TupleType([hidden_type, hidden_type, hidden_type, hidden_type])\n",
    "    state_type = relay.TupleType([hidden_type, hidden_type])\n",
    "    return input_type, hidden_type, i2h_weight_type, h2h_weight_type, bias_type, dense_type, slice_type, state_type"
   ]
  },
  {
   "cell_type": "code",
   "execution_count": 21,
   "metadata": {},
   "outputs": [],
   "source": [
    "def lstm_cell(input_size, hidden_size, batch_size=1, dtype=\"float32\"): \n",
    "    input_type, hidden_type, i2h_weight_type, h2h_weight_type, bias_type, dense_type, \\\n",
    "        slice_type, state_type = get_types(input_size, hidden_size, batch_size, dtype)\n",
    "    inputs = relay.Var(\"inputs\", input_type)\n",
    "    states = relay.Var(\"states\", state_type)\n",
    "    i2h_weight = relay.Var(\"i2h_weight\", i2h_weight_type)\n",
    "    i2h_bias = relay.Var(\"i2h_bias\", bias_type)\n",
    "    h2h_weight = relay.Var(\"h2h_weight\", h2h_weight_type)\n",
    "    h2h_bias = relay.Var(\"h2h_bias\", bias_type)\n",
    "    \n",
    "    builder = relay.ScopeBuilder()\n",
    "    old_h = builder.let((\"old_h\", hidden_type), relay.TupleGetItem(states, 0))\n",
    "    old_c = builder.let((\"old_c\", hidden_type), relay.TupleGetItem(states, 1))\n",
    "    i2h = builder.let((\"i2h\", dense_type),\n",
    "                      layers.dense_add_bias(\n",
    "                          data=inputs,\n",
    "                          units=hidden_size * 4,\n",
    "                          weight=i2h_weight, bias=i2h_bias,\n",
    "                          name=\"i2h\"))\n",
    "    h2h = builder.let((\"h2h\", dense_type),\n",
    "                      layers.dense_add_bias(\n",
    "                          data=old_h,\n",
    "                          units=hidden_size * 4,\n",
    "                          weight=h2h_weight, bias=h2h_bias,\n",
    "                          name=\"h2h\"))\n",
    "    gates = builder.let((\"gates\", dense_type), relay.add(i2h, h2h))\n",
    "    slice_gates = builder.let((\"slice_gates\", slice_type),\n",
    "                              relay.split(gates,\n",
    "                                          indices_or_sections=4,\n",
    "                                          axis=1).astuple())\n",
    "    in_gate = builder.let((\"in_gate\", hidden_type),\n",
    "                          relay.sigmoid(relay.TupleGetItem(slice_gates, 0)))\n",
    "    forget_gate = builder.let((\"forget_gate\", hidden_type),\n",
    "                              relay.sigmoid(relay.TupleGetItem(slice_gates, 1)))\n",
    "    in_transform = builder.let((\"in_transform\", hidden_type),\n",
    "                               relay.tanh(relay.TupleGetItem(slice_gates, 2)))\n",
    "    out_gate = builder.let((\"out_gate\", hidden_type),\n",
    "                           relay.sigmoid(relay.TupleGetItem(slice_gates, 3)))\n",
    "    next_c = builder.let((\"next_c\", hidden_type),\n",
    "                         relay.add(relay.multiply(forget_gate, old_c),\n",
    "                                   relay.multiply(in_gate, in_transform)))\n",
    "    next_h = builder.let((\"next_h\", input_type),\n",
    "                         relay.multiply(out_gate, relay.tanh(next_c)))\n",
    "    ret = builder.let((\"ret\", state_type), relay.Tuple([next_h, next_c]))\n",
    "    builder.ret(ret)\n",
    "\n",
    "    return relay.Function([inputs, states, i2h_weight, i2h_bias, h2h_weight, h2h_bias],\n",
    "                          builder.get())"
   ]
  },
  {
   "cell_type": "code",
   "execution_count": 22,
   "metadata": {},
   "outputs": [],
   "source": [
    "mod = relay.Module()\n",
    "p = Prelude(mod)\n",
    "l = p.l\n",
    "nil = p.nil\n",
    "cons = p.cons"
   ]
  },
  {
   "cell_type": "code",
   "execution_count": 23,
   "metadata": {},
   "outputs": [],
   "source": [
    "def recursive_lstm(seq_len, input_size, hidden_size, batch_size=1, dtype=\"float32\"):\n",
    "    input_type, hidden_type, i2h_weight_type, h2h_weight_type, bias_type, _, \\\n",
    "        _, state_type = get_types(input_size, hidden_size, batch_size, dtype)\n",
    "    \n",
    "    input_seq = nil()\n",
    "    for i in range(seq_len):\n",
    "        inputs = relay.Var(\"data\", input_type)\n",
    "        input_seq = cons(inputs, input_seq)\n",
    "    \n",
    "    i2h_weight = relay.Var(\"i2h_weight\", i2h_weight_type)\n",
    "    i2h_bias = relay.Var(\"i2h_bias\", bias_type)\n",
    "    h2h_weight = relay.Var(\"h2h_weight\", h2h_weight_type)\n",
    "    h2h_bias = relay.Var(\"h2h_bias\", bias_type)\n",
    "    \n",
    "    current_seq = relay.Var(\"current_seq\", l(input_type))\n",
    "    current_inputs = relay.Var(\"current_inputs\", input_type)\n",
    "    tail_seq = relay.Var(\"tail_seq\", l(input_type))\n",
    "    \n",
    "    rec_fn = relay.Var(\"rec_fn\")\n",
    "    cell_fn = lstm_cell(input_size, hidden_size, batch_size, dtype)\n",
    "    \n",
    "    builder = relay.ScopeBuilder()\n",
    "    zeros = builder.let((\"zeros\", hidden_type), relay.zeros((batch_size, hidden_size), dtype))\n",
    "    init_states = builder.let((\"init_states\", state_type), relay.Tuple([zeros, zeros]))\n",
    "    match = builder.let((\"match\", state_type), \n",
    "        relay.Match(\n",
    "            current_seq,\n",
    "            [relay.Clause(relay.PatternConstructor(nil), \n",
    "                          init_states),\n",
    "             relay.Clause(relay.PatternConstructor(cons,\n",
    "                                                   [relay.PatternVar(current_inputs), \n",
    "                                                    relay.PatternVar(tail_seq)]),\n",
    "                          relay.Call(cell_fn, [current_inputs, rec_fn(tail_seq),\n",
    "                                               i2h_weight, i2h_bias, h2h_weight, h2h_bias]))\n",
    "            ]))\n",
    "    builder.ret(match)\n",
    "    func = relay.Function([current_seq], builder.get())\n",
    "    ret = relay.Let(rec_fn, func, rec_fn(input_seq))\n",
    "    out = relay.TupleGetItem(ret, 0)\n",
    "    args = relay.analysis.free_vars(out)\n",
    "    return relay.Function(args, out)"
   ]
  },
  {
   "cell_type": "code",
   "execution_count": 24,
   "metadata": {
    "scrolled": true
   },
   "outputs": [
    {
     "ename": "TVMError",
     "evalue": "Traceback (most recent call last):\n  [bt] (8) /home/ubuntu/tvm/build/libtvm.so(tvm::relay::vm::VMFunctionCompiler::CompileTreeNode(std::shared_ptr<tvm::relay::TreeNode<std::shared_ptr<tvm::relay::vm::ConditionNode> > >)+0x334) [0x7ff9d1aedc04]\n  [bt] (7) /home/ubuntu/tvm/build/libtvm.so(tvm::relay::vm::VMFunctionCompiler::CompileTreeNode(std::shared_ptr<tvm::relay::TreeNode<std::shared_ptr<tvm::relay::vm::ConditionNode> > >)+0x505) [0x7ff9d1aeddd5]\n  [bt] (6) /home/ubuntu/tvm/build/libtvm.so(tvm::relay::vm::VMFunctionCompiler::CompileTreeNode(std::shared_ptr<tvm::relay::TreeNode<std::shared_ptr<tvm::relay::vm::ConditionNode> > >)+0x505) [0x7ff9d1aeddd5]\n  [bt] (5) /home/ubuntu/tvm/build/libtvm.so(tvm::relay::vm::VMFunctionCompiler::CompileTreeNode(std::shared_ptr<tvm::relay::TreeNode<std::shared_ptr<tvm::relay::vm::ConditionNode> > >)+0xca) [0x7ff9d1aed99a]\n  [bt] (4) /home/ubuntu/tvm/build/libtvm.so(tvm::relay::ExprFunctor<void (tvm::relay::Expr const&)>::VisitExpr(tvm::relay::Expr const&)+0x445) [0x7ff9d198dca5]\n  [bt] (3) /home/ubuntu/tvm/build/libtvm.so(tvm::relay::vm::VMFunctionCompiler::VisitExpr_(tvm::relay::LetNode const*)+0x3f) [0x7ff9d1aedf3f]\n  [bt] (2) /home/ubuntu/tvm/build/libtvm.so(tvm::relay::ExprFunctor<void (tvm::relay::Expr const&)>::VisitExpr(tvm::relay::Expr const&)+0x445) [0x7ff9d198dca5]\n  [bt] (1) /home/ubuntu/tvm/build/libtvm.so(tvm::relay::vm::VMFunctionCompiler::VisitExpr_(tvm::relay::CallNode const*)+0xaac) [0x7ff9d1af011c]\n  [bt] (0) /home/ubuntu/tvm/build/libtvm.so(dmlc::LogMessageFatal::~LogMessageFatal()+0x32) [0x7ff9d1444352]\n  File \"/home/ubuntu/tvm/src/relay/backend/vm/compiler.cc\", line 635\nTVMError: internal error: unreachable code,should be transformed away by previous passesfree_var %tail_seq: List[Tensor[(1, 2), float32]]\nfree_var %i2h_weight: Tensor[(8, 2), float32]\nfree_var %i2h_bias: Tensor[(8), float32]\nfree_var %h2h_weight: Tensor[(8, 2), float32]\nfree_var %h2h_bias: Tensor[(8), float32]\n%0 = @lifted_name7877187650838540133(%i2h_weight, %i2h_bias, %h2h_weight, %h2h_bias) /* ty=fn (List[Tensor[(1, 2), float32]]) -> (Tensor[(1, 2), float32], Tensor[(1, 2), float32]) */;\n%0(%tail_seq) /* ty=(Tensor[(1, 2), float32], Tensor[(1, 2), float32]) */",
     "output_type": "error",
     "traceback": [
      "\u001b[0;31m---------------------------------------------------------------------------\u001b[0m",
      "\u001b[0;31mTVMError\u001b[0m                                  Traceback (most recent call last)",
      "\u001b[0;32m<ipython-input-24-ae34226fba9b>\u001b[0m in \u001b[0;36m<module>\u001b[0;34m()\u001b[0m\n\u001b[1;32m     19\u001b[0m \u001b[0mctx\u001b[0m \u001b[0;34m=\u001b[0m \u001b[0mtvm\u001b[0m\u001b[0;34m.\u001b[0m\u001b[0mcpu\u001b[0m\u001b[0;34m(\u001b[0m\u001b[0;34m)\u001b[0m\u001b[0;34m\u001b[0m\u001b[0m\n\u001b[1;32m     20\u001b[0m \u001b[0mtarget\u001b[0m \u001b[0;34m=\u001b[0m \u001b[0;34m\"llvm\"\u001b[0m\u001b[0;34m\u001b[0m\u001b[0m\n\u001b[0;32m---> 21\u001b[0;31m \u001b[0mvm\u001b[0m \u001b[0;34m=\u001b[0m \u001b[0mrelay\u001b[0m\u001b[0;34m.\u001b[0m\u001b[0mcreate_executor\u001b[0m\u001b[0;34m(\u001b[0m\u001b[0;34m'vm'\u001b[0m\u001b[0;34m,\u001b[0m \u001b[0mctx\u001b[0m\u001b[0;34m=\u001b[0m\u001b[0mtvm\u001b[0m\u001b[0;34m.\u001b[0m\u001b[0mcpu\u001b[0m\u001b[0;34m(\u001b[0m\u001b[0;34m)\u001b[0m\u001b[0;34m,\u001b[0m \u001b[0mtarget\u001b[0m\u001b[0;34m=\u001b[0m\u001b[0mtarget\u001b[0m\u001b[0;34m,\u001b[0m \u001b[0mmod\u001b[0m\u001b[0;34m=\u001b[0m\u001b[0mmod\u001b[0m\u001b[0;34m)\u001b[0m\u001b[0;34m\u001b[0m\u001b[0m\n\u001b[0m\u001b[1;32m     22\u001b[0m \u001b[0mresult\u001b[0m \u001b[0;34m=\u001b[0m \u001b[0mvm\u001b[0m\u001b[0;34m.\u001b[0m\u001b[0mevaluate\u001b[0m\u001b[0;34m(\u001b[0m\u001b[0;34m)\u001b[0m\u001b[0;34m(\u001b[0m\u001b[0;34m*\u001b[0m\u001b[0minputs\u001b[0m\u001b[0;34m)\u001b[0m\u001b[0;34m\u001b[0m\u001b[0m\n\u001b[1;32m     23\u001b[0m \u001b[0mprint\u001b[0m\u001b[0;34m(\u001b[0m\u001b[0mresult\u001b[0m\u001b[0;34m.\u001b[0m\u001b[0masnumpy\u001b[0m\u001b[0;34m(\u001b[0m\u001b[0;34m)\u001b[0m\u001b[0;34m)\u001b[0m\u001b[0;34m\u001b[0m\u001b[0m\n",
      "\u001b[0;32m~/tvm/python/tvm/relay/build_module.py\u001b[0m in \u001b[0;36mcreate_executor\u001b[0;34m(kind, mod, ctx, target)\u001b[0m\n\u001b[1;32m    382\u001b[0m         \u001b[0;32mreturn\u001b[0m \u001b[0mGraphExecutor\u001b[0m\u001b[0;34m(\u001b[0m\u001b[0mmod\u001b[0m\u001b[0;34m,\u001b[0m \u001b[0mctx\u001b[0m\u001b[0;34m,\u001b[0m \u001b[0mtarget\u001b[0m\u001b[0;34m)\u001b[0m\u001b[0;34m\u001b[0m\u001b[0m\n\u001b[1;32m    383\u001b[0m     \u001b[0;32melif\u001b[0m \u001b[0mkind\u001b[0m \u001b[0;34m==\u001b[0m \u001b[0;34m\"vm\"\u001b[0m\u001b[0;34m:\u001b[0m\u001b[0;34m\u001b[0m\u001b[0m\n\u001b[0;32m--> 384\u001b[0;31m         \u001b[0;32mreturn\u001b[0m \u001b[0mVMExecutor\u001b[0m\u001b[0;34m(\u001b[0m\u001b[0mmod\u001b[0m\u001b[0;34m,\u001b[0m \u001b[0mctx\u001b[0m\u001b[0;34m,\u001b[0m \u001b[0mtarget\u001b[0m\u001b[0;34m)\u001b[0m\u001b[0;34m\u001b[0m\u001b[0m\n\u001b[0m\u001b[1;32m    385\u001b[0m     \u001b[0;32melse\u001b[0m\u001b[0;34m:\u001b[0m\u001b[0;34m\u001b[0m\u001b[0m\n\u001b[1;32m    386\u001b[0m         \u001b[0;32mraise\u001b[0m \u001b[0mRuntimeError\u001b[0m\u001b[0;34m(\u001b[0m\u001b[0;34m\"unknown execution strategy: {0}\"\u001b[0m\u001b[0;34m.\u001b[0m\u001b[0mformat\u001b[0m\u001b[0;34m(\u001b[0m\u001b[0mkind\u001b[0m\u001b[0;34m)\u001b[0m\u001b[0;34m)\u001b[0m\u001b[0;34m\u001b[0m\u001b[0m\n",
      "\u001b[0;32m~/tvm/python/tvm/relay/backend/vm.py\u001b[0m in \u001b[0;36m__init__\u001b[0;34m(self, mod, ctx, target)\u001b[0m\n\u001b[1;32m    480\u001b[0m         \u001b[0mself\u001b[0m\u001b[0;34m.\u001b[0m\u001b[0mctx\u001b[0m \u001b[0;34m=\u001b[0m \u001b[0mctx\u001b[0m\u001b[0;34m\u001b[0m\u001b[0m\n\u001b[1;32m    481\u001b[0m         \u001b[0mself\u001b[0m\u001b[0;34m.\u001b[0m\u001b[0mtarget\u001b[0m \u001b[0;34m=\u001b[0m \u001b[0mtarget\u001b[0m\u001b[0;34m\u001b[0m\u001b[0m\n\u001b[0;32m--> 482\u001b[0;31m         \u001b[0mself\u001b[0m\u001b[0;34m.\u001b[0m\u001b[0mexecutable\u001b[0m \u001b[0;34m=\u001b[0m \u001b[0mcompile\u001b[0m\u001b[0;34m(\u001b[0m\u001b[0mmod\u001b[0m\u001b[0;34m,\u001b[0m \u001b[0mtarget\u001b[0m\u001b[0;34m)\u001b[0m\u001b[0;34m\u001b[0m\u001b[0m\n\u001b[0m\u001b[1;32m    483\u001b[0m         \u001b[0mself\u001b[0m\u001b[0;34m.\u001b[0m\u001b[0mvm\u001b[0m \u001b[0;34m=\u001b[0m \u001b[0mVirtualMachine\u001b[0m\u001b[0;34m(\u001b[0m\u001b[0mself\u001b[0m\u001b[0;34m.\u001b[0m\u001b[0mexecutable\u001b[0m\u001b[0;34m)\u001b[0m\u001b[0;34m\u001b[0m\u001b[0m\n\u001b[1;32m    484\u001b[0m         \u001b[0mself\u001b[0m\u001b[0;34m.\u001b[0m\u001b[0mvm\u001b[0m\u001b[0;34m.\u001b[0m\u001b[0minit\u001b[0m\u001b[0;34m(\u001b[0m\u001b[0mctx\u001b[0m\u001b[0;34m)\u001b[0m\u001b[0;34m\u001b[0m\u001b[0m\n",
      "\u001b[0;32m~/tvm/python/tvm/relay/backend/vm.py\u001b[0m in \u001b[0;36mcompile\u001b[0;34m(mod, target, target_host, params)\u001b[0m\n\u001b[1;32m    394\u001b[0m     \u001b[0mtophub_context\u001b[0m \u001b[0;34m=\u001b[0m \u001b[0mcompiler\u001b[0m\u001b[0;34m.\u001b[0m\u001b[0mtophub_context\u001b[0m\u001b[0;34m(\u001b[0m\u001b[0mtarget\u001b[0m\u001b[0;34m)\u001b[0m\u001b[0;34m\u001b[0m\u001b[0m\n\u001b[1;32m    395\u001b[0m     \u001b[0;32mwith\u001b[0m \u001b[0mtophub_context\u001b[0m\u001b[0;34m:\u001b[0m\u001b[0;34m\u001b[0m\u001b[0m\n\u001b[0;32m--> 396\u001b[0;31m         \u001b[0mcompiler\u001b[0m\u001b[0;34m.\u001b[0m\u001b[0m_compile\u001b[0m\u001b[0;34m(\u001b[0m\u001b[0mmod\u001b[0m\u001b[0;34m,\u001b[0m \u001b[0mtarget\u001b[0m\u001b[0;34m,\u001b[0m \u001b[0mtarget_host\u001b[0m\u001b[0;34m)\u001b[0m\u001b[0;34m\u001b[0m\u001b[0m\n\u001b[0m\u001b[1;32m    397\u001b[0m     \u001b[0;32mreturn\u001b[0m \u001b[0mExecutable\u001b[0m\u001b[0;34m(\u001b[0m\u001b[0mcompiler\u001b[0m\u001b[0;34m.\u001b[0m\u001b[0m_get_exec\u001b[0m\u001b[0;34m(\u001b[0m\u001b[0;34m)\u001b[0m\u001b[0;34m)\u001b[0m\u001b[0;34m\u001b[0m\u001b[0m\n\u001b[1;32m    398\u001b[0m \u001b[0;34m\u001b[0m\u001b[0m\n",
      "\u001b[0;32m~/tvm/python/tvm/_ffi/_ctypes/function.py\u001b[0m in \u001b[0;36m__call__\u001b[0;34m(self, *args)\u001b[0m\n\u001b[1;32m    205\u001b[0m                 \u001b[0mself\u001b[0m\u001b[0;34m.\u001b[0m\u001b[0mhandle\u001b[0m\u001b[0;34m,\u001b[0m \u001b[0mvalues\u001b[0m\u001b[0;34m,\u001b[0m \u001b[0mtcodes\u001b[0m\u001b[0;34m,\u001b[0m \u001b[0mctypes\u001b[0m\u001b[0;34m.\u001b[0m\u001b[0mc_int\u001b[0m\u001b[0;34m(\u001b[0m\u001b[0mnum_args\u001b[0m\u001b[0;34m)\u001b[0m\u001b[0;34m,\u001b[0m\u001b[0;34m\u001b[0m\u001b[0m\n\u001b[1;32m    206\u001b[0m                 ctypes.byref(ret_val), ctypes.byref(ret_tcode)) != 0:\n\u001b[0;32m--> 207\u001b[0;31m             \u001b[0;32mraise\u001b[0m \u001b[0mget_last_ffi_error\u001b[0m\u001b[0;34m(\u001b[0m\u001b[0;34m)\u001b[0m\u001b[0;34m\u001b[0m\u001b[0m\n\u001b[0m\u001b[1;32m    208\u001b[0m         \u001b[0m_\u001b[0m \u001b[0;34m=\u001b[0m \u001b[0mtemp_args\u001b[0m\u001b[0;34m\u001b[0m\u001b[0m\n\u001b[1;32m    209\u001b[0m         \u001b[0m_\u001b[0m \u001b[0;34m=\u001b[0m \u001b[0margs\u001b[0m\u001b[0;34m\u001b[0m\u001b[0m\n",
      "\u001b[0;31mTVMError\u001b[0m: Traceback (most recent call last):\n  [bt] (8) /home/ubuntu/tvm/build/libtvm.so(tvm::relay::vm::VMFunctionCompiler::CompileTreeNode(std::shared_ptr<tvm::relay::TreeNode<std::shared_ptr<tvm::relay::vm::ConditionNode> > >)+0x334) [0x7ff9d1aedc04]\n  [bt] (7) /home/ubuntu/tvm/build/libtvm.so(tvm::relay::vm::VMFunctionCompiler::CompileTreeNode(std::shared_ptr<tvm::relay::TreeNode<std::shared_ptr<tvm::relay::vm::ConditionNode> > >)+0x505) [0x7ff9d1aeddd5]\n  [bt] (6) /home/ubuntu/tvm/build/libtvm.so(tvm::relay::vm::VMFunctionCompiler::CompileTreeNode(std::shared_ptr<tvm::relay::TreeNode<std::shared_ptr<tvm::relay::vm::ConditionNode> > >)+0x505) [0x7ff9d1aeddd5]\n  [bt] (5) /home/ubuntu/tvm/build/libtvm.so(tvm::relay::vm::VMFunctionCompiler::CompileTreeNode(std::shared_ptr<tvm::relay::TreeNode<std::shared_ptr<tvm::relay::vm::ConditionNode> > >)+0xca) [0x7ff9d1aed99a]\n  [bt] (4) /home/ubuntu/tvm/build/libtvm.so(tvm::relay::ExprFunctor<void (tvm::relay::Expr const&)>::VisitExpr(tvm::relay::Expr const&)+0x445) [0x7ff9d198dca5]\n  [bt] (3) /home/ubuntu/tvm/build/libtvm.so(tvm::relay::vm::VMFunctionCompiler::VisitExpr_(tvm::relay::LetNode const*)+0x3f) [0x7ff9d1aedf3f]\n  [bt] (2) /home/ubuntu/tvm/build/libtvm.so(tvm::relay::ExprFunctor<void (tvm::relay::Expr const&)>::VisitExpr(tvm::relay::Expr const&)+0x445) [0x7ff9d198dca5]\n  [bt] (1) /home/ubuntu/tvm/build/libtvm.so(tvm::relay::vm::VMFunctionCompiler::VisitExpr_(tvm::relay::CallNode const*)+0xaac) [0x7ff9d1af011c]\n  [bt] (0) /home/ubuntu/tvm/build/libtvm.so(dmlc::LogMessageFatal::~LogMessageFatal()+0x32) [0x7ff9d1444352]\n  File \"/home/ubuntu/tvm/src/relay/backend/vm/compiler.cc\", line 635\nTVMError: internal error: unreachable code,should be transformed away by previous passesfree_var %tail_seq: List[Tensor[(1, 2), float32]]\nfree_var %i2h_weight: Tensor[(8, 2), float32]\nfree_var %i2h_bias: Tensor[(8), float32]\nfree_var %h2h_weight: Tensor[(8, 2), float32]\nfree_var %h2h_bias: Tensor[(8), float32]\n%0 = @lifted_name7877187650838540133(%i2h_weight, %i2h_bias, %h2h_weight, %h2h_bias) /* ty=fn (List[Tensor[(1, 2), float32]]) -> (Tensor[(1, 2), float32], Tensor[(1, 2), float32]) */;\n%0(%tail_seq) /* ty=(Tensor[(1, 2), float32], Tensor[(1, 2), float32]) */"
     ]
    }
   ],
   "source": [
    "mod[\"main\"] = recursive_lstm(2, 2, 2)\n",
    "mod = relay.transform.InferType()(mod)\n",
    "# mod = relay.transform.LambdaLift()(mod)\n",
    "# print(mod[\"main\"])\n",
    "# print(mod[\"main\"].params)\n",
    "\n",
    "inputs = []\n",
    "for v in mod[\"main\"].params:\n",
    "    t = v.checked_type\n",
    "    rand_value = np.random.normal(size=t.concrete_shape).astype(t.dtype)\n",
    "#     inputs.append(rand_value)\n",
    "    inputs.append(tvm.nd.array(rand_value, ctx=tvm.cpu(0)))\n",
    "# print(inputs)\n",
    "\n",
    "# intrp = relay.create_executor(\"debug\", mod=mod, ctx=tvm.cpu(), target=\"llvm\")\n",
    "# res = intrp.evaluate()(*inputs)\n",
    "# print(res)\n",
    "\n",
    "ctx = tvm.cpu()\n",
    "target = \"llvm\"\n",
    "vm = relay.create_executor('debug', ctx=tvm.cpu(), target=target, mod=mod)\n",
    "result = vm.evaluate()(*inputs)\n",
    "print(result.asnumpy())"
   ]
  },
  {
   "cell_type": "code",
   "execution_count": null,
   "metadata": {},
   "outputs": [],
   "source": []
  }
 ],
 "metadata": {
  "kernelspec": {
   "display_name": "Environment (conda_anaconda3)",
   "language": "python",
   "name": "conda_anaconda3"
  },
  "language_info": {
   "codemirror_mode": {
    "name": "ipython",
    "version": 3
   },
   "file_extension": ".py",
   "mimetype": "text/x-python",
   "name": "python",
   "nbconvert_exporter": "python",
   "pygments_lexer": "ipython3",
   "version": "3.6.6"
  }
 },
 "nbformat": 4,
 "nbformat_minor": 2
}
