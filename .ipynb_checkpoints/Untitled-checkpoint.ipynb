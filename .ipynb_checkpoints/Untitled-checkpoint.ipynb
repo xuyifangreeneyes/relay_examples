{
 "cells": [
  {
   "cell_type": "code",
   "execution_count": 1,
   "metadata": {},
   "outputs": [],
   "source": [
    "import tvm\n",
    "from tvm import relay"
   ]
  },
  {
   "cell_type": "code",
   "execution_count": 7,
   "metadata": {},
   "outputs": [
    {
     "name": "stdout",
     "output_type": "stream",
     "text": [
      "v0.0.4\n",
      "def @main(%a: float32, %a1: float32) -> float32 {\n",
      "  add(%a, %a1) /* ty=float32 */\n",
      "}\n",
      "\n"
     ]
    }
   ],
   "source": [
    "a0 = relay.var('a', relay.TensorType(shape=(), dtype='float32'))\n",
    "a1 = relay.var('a', relay.TensorType(shape=(), dtype='float32'))\n",
    "func = relay.Function([a0, a1], a0 + a1)\n",
    "mod = relay.Module()\n",
    "mod[\"main\"] = func\n",
    "print(mod)"
   ]
  },
  {
   "cell_type": "code",
   "execution_count": 13,
   "metadata": {},
   "outputs": [
    {
     "name": "stdout",
     "output_type": "stream",
     "text": [
      "init v0.0.4\n",
      "free_var %a: int32\n",
      "%a\n",
      "0 v0.0.4\n",
      "free_var %a: int32\n",
      "add(%a, 1)\n",
      "1 v0.0.4\n",
      "free_var %a: int32\n",
      "%0 = add(%a, 1);\n",
      "add(%0, 1)\n",
      "2 v0.0.4\n",
      "free_var %a: int32\n",
      "%0 = add(%a, 1);\n",
      "%1 = add(%0, 1);\n",
      "add(%1, 1)\n",
      "3 v0.0.4\n",
      "free_var %a: int32\n",
      "%0 = add(%a, 1);\n",
      "%1 = add(%0, 1);\n",
      "%2 = add(%1, 1);\n",
      "add(%2, 1)\n",
      "v0.0.4\n",
      "def @main(%a: int32) -> int32 {\n",
      "  %0 = add(%a, 1 /* ty=int32 */) /* ty=int32 */;\n",
      "  %1 = add(%0, 1 /* ty=int32 */) /* ty=int32 */;\n",
      "  %2 = add(%1, 1 /* ty=int32 */) /* ty=int32 */;\n",
      "  %3 = add(%2, 1 /* ty=int32 */) /* ty=int32 */;\n",
      "  add(%3, 1 /* ty=int32 */) /* ty=int32 */\n",
      "}\n",
      "\n"
     ]
    }
   ],
   "source": [
    "a = relay.var('a', relay.TensorType(shape=(), dtype='int32'))\n",
    "print('init\\n', a)\n",
    "for i in range(4):\n",
    "    a = a + relay.const(1, dtype='int32')\n",
    "    print(i, '\\n', a)\n",
    "b = a + relay.const(1, dtype='int32')\n",
    "args = relay.analysis.free_vars(b)\n",
    "func = relay.Function(args, b)\n",
    "mod = relay.Module()\n",
    "mod[\"main\"] = func\n",
    "print(mod)"
   ]
  },
  {
   "cell_type": "code",
   "execution_count": null,
   "metadata": {},
   "outputs": [],
   "source": []
  }
 ],
 "metadata": {
  "kernelspec": {
   "display_name": "Environment (conda_anaconda3)",
   "language": "python",
   "name": "conda_anaconda3"
  },
  "language_info": {
   "codemirror_mode": {
    "name": "ipython",
    "version": 3
   },
   "file_extension": ".py",
   "mimetype": "text/x-python",
   "name": "python",
   "nbconvert_exporter": "python",
   "pygments_lexer": "ipython3",
   "version": "3.6.6"
  }
 },
 "nbformat": 4,
 "nbformat_minor": 2
}
